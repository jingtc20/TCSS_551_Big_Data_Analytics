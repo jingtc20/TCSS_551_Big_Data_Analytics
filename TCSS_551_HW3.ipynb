{
  "nbformat": 4,
  "nbformat_minor": 0,
  "metadata": {
    "kernelspec": {
      "display_name": "Python 3",
      "language": "python",
      "name": "python3"
    },
    "language_info": {
      "codemirror_mode": {
        "name": "ipython",
        "version": 3
      },
      "file_extension": ".py",
      "mimetype": "text/x-python",
      "name": "python",
      "nbconvert_exporter": "python",
      "pygments_lexer": "ipython3",
      "version": "3.7.4"
    },
    "toc": {
      "colors": {
        "hover_highlight": "#DAA520",
        "navigate_num": "#000000",
        "navigate_text": "#333333",
        "running_highlight": "#FF0000",
        "selected_highlight": "#FFD700",
        "sidebar_border": "#EEEEEE",
        "wrapper_background": "#FFFFFF"
      },
      "moveMenuLeft": true,
      "nav_menu": {
        "height": "300px",
        "width": "252px"
      },
      "navigate_menu": true,
      "number_sections": true,
      "sideBar": true,
      "threshold": 4,
      "toc_cell": false,
      "toc_section_display": "block",
      "toc_window_display": false,
      "widenNotebook": false
    },
    "colab": {
      "name": "TCSS 551 A3.ipynb",
      "provenance": [],
      "collapsed_sections": [
        "oUqn4VvtZnG7",
        "GYJ8ab_scO0r",
        "ucbS2KsLkEkR",
        "hy6pgW2MrzSa"
      ]
    }
  },
  "cells": [
    {
      "cell_type": "markdown",
      "metadata": {
        "nbgrader": {
          "grade": false,
          "grade_id": "title-cell",
          "locked": true,
          "schema_version": 2,
          "solution": false
        },
        "id": "RW82b4ZNIVV6"
      },
      "source": [
        "# Assignment 3\n",
        "\n",
        "This assignment is meant to help you familiarize yourself with basic **Prediction**.\n",
        "\n",
        "To receive credit, answer all questions correctly and submit to Canvas before the deadline.\n",
        "\n",
        "**This assignment is due Thursday, April 29 at 11:59 PM.**\n",
        "\n",
        "**NOTE: All instructions deserve 0 point. However, -5 for each part if you do not follow, run, and understand.**"
      ]
    },
    {
      "cell_type": "markdown",
      "metadata": {
        "id": "2ubOP7WIyJaj"
      },
      "source": [
        "**YOUR FULL NAME (1 POINT)**: Jing Tian"
      ]
    },
    {
      "cell_type": "markdown",
      "metadata": {
        "id": "-iX4wlC7qBM4"
      },
      "source": [
        "## Collaboration Policy\n",
        "\n",
        "Data science is a collaborative activity. While you may talk with others about the assignment, we ask that you **write your solutions individually**. If you do discuss the assignment with others, please **include their names** below."
      ]
    },
    {
      "cell_type": "markdown",
      "metadata": {
        "id": "uAZav0BiqBM5"
      },
      "source": [
        "**Collaborators**: *list collaborators here*"
      ]
    },
    {
      "cell_type": "code",
      "metadata": {
        "id": "Sl5QQmtggg2O"
      },
      "source": [
        "# import necessary packages\n",
        "import numpy as np\n",
        "import matplotlib.pyplot as plt\n",
        "import pandas as pd\n",
        "import seaborn as sns\n",
        "plt.style.use('fivethirtyeight')\n",
        "%matplotlib inline"
      ],
      "execution_count": 513,
      "outputs": []
    },
    {
      "cell_type": "markdown",
      "metadata": {
        "id": "NOip2C120Vs9"
      },
      "source": [
        "# Part I: Modeling and Loss Functions\n",
        "\n",
        "In this section, you will:\n",
        "\n",
        "1. Define loss functions and find the arguments that minimize them.\n",
        "2. Explore different statistics and techniques.\n",
        "\n",
        "## Constant Model\n",
        "\n",
        "In the modeling context, $y$ represents our \"true observations\", which are typically what we are trying to model. $\\hat{y}$ represents our prediction (for any model). First, we explore the constant model, where our prediction for any input is a constant:\n",
        "\n",
        "$$\\Large\n",
        "\\hat{y} = \\theta\n",
        "$$\n",
        "\n",
        "$\\theta$ is what we call a **parameter**. Our goal is to find the value of our parameters that **best fit our data**. We represent the optimal parameter(s) with $\\hat{\\theta}$.\n",
        "\n",
        "We call the constant model a **summary statistic**, as we are determining one number that best \"summarizes\" a set of values.\n",
        "\n",
        "\n",
        "## Loss function\n",
        "\n",
        "Loss functions are what we use to determine the optimal parameter(s) for our model.\n",
        "\n",
        "A loss function is a measure of how well a model is able to predict the expected outcome. In other words, it measures the deviations of the predicted values from the observed values. We will implement the squared loss and absolute loss functions.  \n",
        "\n",
        "In the formulations below $y$ represents the observed values and $\\hat{y}$ stands for our prediction.\n",
        "\n",
        "1. **Squared Loss** (also known as the $L_2$ loss, pronounced \"ell-two\"):\n",
        "\n",
        "$$\\Large L(y, \\hat{y}) = (y - \\hat{y})^2$$\n",
        "\n",
        "2. **Absolute Loss** (also known as the $L_1$ loss, pronounced \"ell-one\"):\n",
        "\n",
        "$$\\Large L\\left(y, \\hat{y} \\right) = \\left| y - \\hat{y} \\right|$$\n",
        "\n",
        "Since we are using the constant model $\\hat{y} = \\theta$, we will instead refer to these loss functions as being $(y - \\theta)^2$ and $|y - \\theta|$."
      ]
    },
    {
      "cell_type": "markdown",
      "metadata": {
        "id": "UgrHxzxOCOh9"
      },
      "source": [
        "## Question 1.a (2 points)\n",
        "\n",
        "Based on the comments below, implement the squared loss function. **Your answer should not use any loops**.\n",
        "\n"
      ]
    },
    {
      "cell_type": "code",
      "metadata": {
        "id": "raLmzyNyC3xE"
      },
      "source": [
        "def squared_loss(y_obs, theta):\n",
        "    \"\"\"\n",
        "    Calculate the squared loss of the observed data and a summary statistic.\n",
        "    \n",
        "    Parameters\n",
        "    ------------\n",
        "    y_obs: an observed value\n",
        "    theta : some constant representing a summary statistic\n",
        "    \n",
        "    Returns\n",
        "    ------------\n",
        "    The squared loss between the observation and the summary statistic.\n",
        "    \"\"\"\n",
        "    # type your code here\n",
        "    return (y_obs - theta) ** 2\n"
      ],
      "execution_count": 514,
      "outputs": []
    },
    {
      "cell_type": "markdown",
      "metadata": {
        "id": "OOQSMAJLDX3V"
      },
      "source": [
        "## Question 1.b (3 points)\n",
        "\n",
        "Plotting the Squared Loss: Let us now consider the case where `y_obs` equals 10. For arbitrary values of `theta`, plot the squared loss using the function above."
      ]
    },
    {
      "cell_type": "code",
      "metadata": {
        "id": "HZieZmmmD46g",
        "colab": {
          "base_uri": "https://localhost:8080/",
          "height": 296
        },
        "outputId": "b60278b7-6c01-4920-dfac-d5d779d41eed"
      },
      "source": [
        "y_obs = 10\n",
        "theta_values = np.linspace(0, 20, 100) # some arbitrary values of theta\n",
        "# type your code here\n",
        "y_squared_loss = [squared_loss(y_obs, theta) for theta in theta_values]\n",
        "plt.plot(theta_values, y_squared_loss)\n",
        "plt.xlabel(r'$\\theta$')\n",
        "plt.ylabel('L2 loss')\n",
        "plt.title(r'L2 Loss for different values of $\\theta$'); # Do not want to show an additional line of Text, use \";\""
      ],
      "execution_count": 515,
      "outputs": [
        {
          "output_type": "display_data",
          "data": {
            "image/png": "[encoded data removed]",
            "text/plain": [
              "<Figure size 432x288 with 1 Axes>"
            ]
          },
          "metadata": {
            "tags": [],
            "needs_background": "light"
          }
        }
      ]
    },
    {
      "cell_type": "markdown",
      "metadata": {
        "id": "4omQTRNyFjn6"
      },
      "source": [
        "## Mean Squared Error for the `Tips` Data\n",
        "\n",
        "Let's apply our knowledge to some real world data. In this section, you will try to find the best statistic $\\theta$ to represent the tips given in an array. The simple procedure you will use includes constructing the mean squared error (MSE) for the `tips` data and finding the value that minimizes the MSE. Below you are given an array of tips from a restaurant.\n",
        "\n",
        "\n",
        "\n"
      ]
    },
    {
      "cell_type": "code",
      "metadata": {
        "id": "Vx-3MBhYGVyH"
      },
      "source": [
        "# Run this cell, do not change anything\n",
        "df = sns.load_dataset(\"tips\")\n",
        "tips = np.array(df['tip']) # array of observed tips"
      ],
      "execution_count": 516,
      "outputs": []
    },
    {
      "cell_type": "markdown",
      "metadata": {
        "id": "2tM93xagGuYA"
      },
      "source": [
        "## Question 1.c (4 points)\n",
        "\n",
        "Now, we can extend the above loss function to an entire dataset by taking the average. Let the dataset $\\mathcal{D}$ be the set of observations:\n",
        "\n",
        "$$\\Large\\mathcal{D} = \\{y_1, \\ldots, y_n\\}$$\n",
        "\n",
        "where $y_i$ is the $i^{th}$ tip.\n",
        "\n",
        "We can define the average loss over the dataset as:\n",
        "\n",
        "$$\\Large\n",
        "R\\left(\\theta\\right) = \\frac{1}{n} \\sum_{i=1}^n L(y_i, \\theta)\n",
        "$$\n",
        "\n",
        "Define the `mean_squared_error` function which computes the mean squared error given the data and a value for `theta`. Assume that `data` will be a numpy array. **You do NOT need to use the `squared_loss` function in 1.a. Your answer should not use any loops.**"
      ]
    },
    {
      "cell_type": "code",
      "metadata": {
        "id": "362Xf_HaHNhF",
        "colab": {
          "base_uri": "https://localhost:8080/"
        },
        "outputId": "829b7c6b-e0e2-4c0c-d0f9-8a4cc799bf3f"
      },
      "source": [
        "def mean_squared_error(theta, data):\n",
        "    # type your code here\n",
        "    np_theta = np.ones_like(data) * theta\n",
        "    np_diff = np_theta - data\n",
        "    np_square = np.square(np_diff)\n",
        "    mse = np_square.mean()\n",
        "    return mse\n",
        "    \n",
        "mean_squared_error(5.3, tips)"
      ],
      "execution_count": 517,
      "outputs": [
        {
          "output_type": "execute_result",
          "data": {
            "text/plain": [
              "7.20452950819672"
            ]
          },
          "metadata": {
            "tags": []
          },
          "execution_count": 517
        }
      ]
    },
    {
      "cell_type": "markdown",
      "metadata": {
        "id": "F4rHy55dOWXe"
      },
      "source": [
        "In the cell below  we will plot the mean squared error for different theta values."
      ]
    },
    {
      "cell_type": "code",
      "metadata": {
        "id": "VNesUVC7OaPT",
        "colab": {
          "base_uri": "https://localhost:8080/",
          "height": 296
        },
        "outputId": "c20880f1-05ba-4af0-fe1c-3272350918ba"
      },
      "source": [
        "theta_values = np.linspace(0, 6, 100)\n",
        "mse = [mean_squared_error(theta, tips) for theta in theta_values]\n",
        "plt.plot(theta_values, mse)\n",
        "plt.xlabel(r'$\\theta$')\n",
        "plt.ylabel('L2 loss')\n",
        "plt.title(r'L2 Loss for different values of $\\theta$');"
      ],
      "execution_count": 518,
      "outputs": [
        {
          "output_type": "display_data",
          "data": {
            "image/png": "[encoded data removed]",
            "text/plain": [
              "<Figure size 432x288 with 1 Axes>"
            ]
          },
          "metadata": {
            "tags": [],
            "needs_background": "light"
          }
        }
      ]
    },
    {
      "cell_type": "markdown",
      "metadata": {
        "id": "9-toEaCGQGNf"
      },
      "source": [
        "## Question 1.d (1 point)\n",
        "\n",
        "From the above plot, what is the value of `theta` that minimizes the L2 loss. **Round your answer to the nearest integer.**"
      ]
    },
    {
      "cell_type": "code",
      "metadata": {
        "id": "dQzulvaJQ8Ny",
        "colab": {
          "base_uri": "https://localhost:8080/"
        },
        "outputId": "44328348-5ec8-445f-d9cf-c28b084558be"
      },
      "source": [
        "mse_observed_theta = round(theta_values[mse.index(min(mse))], 0)   # type your answer here\n",
        "mse_observed_theta"
      ],
      "execution_count": 519,
      "outputs": [
        {
          "output_type": "execute_result",
          "data": {
            "text/plain": [
              "3.0"
            ]
          },
          "metadata": {
            "tags": []
          },
          "execution_count": 519
        }
      ]
    },
    {
      "cell_type": "markdown",
      "metadata": {
        "id": "jeiRnwtxRWMd"
      },
      "source": [
        "## How to find the exact value of `theta` that minimizes the loss?\n",
        "\n",
        "The cell below plots some arbitrary 4th degree polynomial function. \n",
        "\n"
      ]
    },
    {
      "cell_type": "code",
      "metadata": {
        "id": "PlxlzaxMRxsx",
        "colab": {
          "base_uri": "https://localhost:8080/",
          "height": 262
        },
        "outputId": "5b6e2f83-be7f-4229-d37b-10c6f13a68df"
      },
      "source": [
        "x_values = np.linspace(-4, 2.5, 100)\n",
        "\n",
        "def fx(x):\n",
        "    return 0.1 * x**4 + 0.2 * x**3 + 0.2 * x**2 + 1 * x + 10\n",
        "\n",
        "plt.plot(x_values, fx(x_values));"
      ],
      "execution_count": 520,
      "outputs": [
        {
          "output_type": "display_data",
          "data": {
            "image/png": "[encoded data removed]",
            "text/plain": [
              "<Figure size 432x288 with 1 Axes>"
            ]
          },
          "metadata": {
            "tags": [],
            "needs_background": "light"
          }
        }
      ]
    },
    {
      "cell_type": "markdown",
      "metadata": {
        "id": "zmxnntHfSDcs"
      },
      "source": [
        "By looking at the plot, we see that the x which minimizes the function is slightly larger than -2. What if we want the exact value? We will demonstrate grabbing the minimum value and the optimal `x` in the following cell.\n",
        "\n",
        "The function `minimize` from [`scipy.optimize`](https://docs.scipy.org/doc/scipy/reference/generated/scipy.optimize.minimize.html) will attempt to minimize any function you throw at it.\n",
        "\n",
        "Try running the cell below, and you will see that `minimize` seems to get the answer correct."
      ]
    },
    {
      "cell_type": "code",
      "metadata": {
        "id": "VSpFF423Scjz",
        "colab": {
          "base_uri": "https://localhost:8080/"
        },
        "outputId": "e2e75f55-0bc8-45e1-d8da-49ae86866d36"
      },
      "source": [
        "from scipy.optimize import minimize\n",
        "minimize(fx, x0 = 1.1)"
      ],
      "execution_count": 521,
      "outputs": [
        {
          "output_type": "execute_result",
          "data": {
            "text/plain": [
              "      fun: 8.728505719866614\n",
              " hess_inv: array([[0.50884886]])\n",
              "      jac: array([1.1920929e-07])\n",
              "  message: 'Optimization terminated successfully.'\n",
              "     nfev: 24\n",
              "      nit: 6\n",
              "     njev: 8\n",
              "   status: 0\n",
              "  success: True\n",
              "        x: array([-1.74682779])"
            ]
          },
          "metadata": {
            "tags": []
          },
          "execution_count": 521
        }
      ]
    },
    {
      "cell_type": "markdown",
      "metadata": {
        "id": "EphxGqf6SxEA"
      },
      "source": [
        "The `fun` value is the minimum value of the function. The `x` is the x which minimizes the function. We can index into the object returned by `minimize` to get these values. We have to add the additional `[0]` at the end because the minimizing x is returned as an array, but this is not necessarily the case for other attributes (i.e. `fun`). The reason for this is that `minimize` can also minimize multivariable functions."
      ]
    },
    {
      "cell_type": "code",
      "metadata": {
        "id": "18u7w8TRTBXC",
        "colab": {
          "base_uri": "https://localhost:8080/"
        },
        "outputId": "60974208-1cda-407c-834e-adb8bec53c1e"
      },
      "source": [
        "minimization_result_for_fx = minimize(fx, x0 = 0)\n",
        "min_of_fx = minimization_result_for_fx['fun']\n",
        "x_which_minimizes_fx = minimization_result_for_fx['x'][0]\n",
        "min_of_fx, x_which_minimizes_fx"
      ],
      "execution_count": 522,
      "outputs": [
        {
          "output_type": "execute_result",
          "data": {
            "text/plain": [
              "(8.728505719868085, -1.7468265839690909)"
            ]
          },
          "metadata": {
            "tags": []
          },
          "execution_count": 522
        }
      ]
    },
    {
      "cell_type": "markdown",
      "metadata": {
        "id": "HjeMhLzzTUo9"
      },
      "source": [
        "The parameter `x0` that we passed to the `minimize` function is where the `minimize` function starts looking as it tries to find the minimum. For example, above, `minimize` started its search at x = 1.1 because that's where we told it to start. For the function above, it doesn't really matter what x we start at because the function is nice and has only a single local minimum. More technically, the function is nice because it is [convex](https://en.wikipedia.org/wiki/Convex_function).\n",
        "\n",
        "`minimize` isn't perfect. For example, if we give it a function with many valleys (also known as local minima) it can get stuck. For example, consider the function below:"
      ]
    },
    {
      "cell_type": "code",
      "metadata": {
        "id": "3yZEdy9DTz4R",
        "colab": {
          "base_uri": "https://localhost:8080/",
          "height": 262
        },
        "outputId": "684024bb-766a-4ffd-ffcb-361b2c4f225c"
      },
      "source": [
        "w_values = np.linspace(-2, 10, 100)\n",
        "\n",
        "def fw(w):\n",
        "    return 0.1 * w**4 - 1.5*w**3 + 6 * w **2 - 1 * w + 10\n",
        "\n",
        "plt.plot(w_values, fw(w_values));"
      ],
      "execution_count": 523,
      "outputs": [
        {
          "output_type": "display_data",
          "data": {
            "image/png": "[encoded data removed]",
            "text/plain": [
              "<Figure size 432x288 with 1 Axes>"
            ]
          },
          "metadata": {
            "tags": [],
            "needs_background": "light"
          }
        }
      ]
    },
    {
      "cell_type": "markdown",
      "metadata": {
        "id": "2aMm-GguT2AF"
      },
      "source": [
        "If we start the minimization at w = 6.5, we'll get stuck in the local minimum at w = 7.03. Note that no matter what your actual variable is called in your function, the `minimize` routine still calls the starting point `x0`."
      ]
    },
    {
      "cell_type": "code",
      "metadata": {
        "id": "tyD3dQIRUAGI",
        "colab": {
          "base_uri": "https://localhost:8080/"
        },
        "outputId": "97f28514-7a47-4960-c070-4e3dba8c4577"
      },
      "source": [
        "minimize(fw, x0 = 6.5)"
      ],
      "execution_count": 524,
      "outputs": [
        {
          "output_type": "execute_result",
          "data": {
            "text/plain": [
              "      fun: 22.594302881719713\n",
              " hess_inv: array([[0.12308018]])\n",
              "      jac: array([-3.81469727e-06])\n",
              "  message: 'Optimization terminated successfully.'\n",
              "     nfev: 18\n",
              "      nit: 4\n",
              "     njev: 6\n",
              "   status: 0\n",
              "  success: True\n",
              "        x: array([7.03774624])"
            ]
          },
          "metadata": {
            "tags": []
          },
          "execution_count": 524
        }
      ]
    },
    {
      "cell_type": "markdown",
      "metadata": {
        "id": "d9Ido7AtUNmB"
      },
      "source": [
        "## Question 1.e (5 points)\n",
        "\n",
        "Using the `minimize` function, find the value of `theta` that minimizes the mean squared error for our tips dataset. In other words, you want to find the exact minimum of the plot that you saw in question 1.c.\n",
        "\n",
        "Assign `min_scipy` to the value of `theta` that minimizes the MSE according to the `minimize` function.\n",
        "\n",
        "Hint: You can't pass your `mean_squared_error` function to `minimize` because `mean_squared_error` has two variables: `theta` and `data`. `minimize` will get confused because it thinks it needs to minimize by picking the best `theta` and best `data` values. We only want it to play around with `theta`.\n",
        "\n",
        "In other words, you need to pass a function of one variable `theta` to the `minimize` function, which means you'll need to create a new function of only ONE variable `theta`. This is very simple, but also very tricky when you do this for the first time. Make sure to ask for help if you get stuck."
      ]
    },
    {
      "cell_type": "code",
      "metadata": {
        "id": "HoHqt-P5VAuh",
        "colab": {
          "base_uri": "https://localhost:8080/"
        },
        "outputId": "16c516ef-253b-45af-cb41-9d00615eaa38"
      },
      "source": [
        "# define your function here\n",
        "def mse_theta(theta):\n",
        "    # type your code here\n",
        "    np_theta = np.ones_like(tips) * theta\n",
        "    np_diff = np_theta - tips\n",
        "    np_square = np.square(np_diff)\n",
        "    mse = np_square.mean()\n",
        "    return mse\n",
        "    \n",
        "# use the following code to minimize\n",
        "min_scipy = minimize(mse_theta, x0=0.0)['x'][0] \n",
        "min_scipy"
      ],
      "execution_count": 525,
      "outputs": [
        {
          "output_type": "execute_result",
          "data": {
            "text/plain": [
              "2.9982787346405537"
            ]
          },
          "metadata": {
            "tags": []
          },
          "execution_count": 525
        }
      ]
    },
    {
      "cell_type": "markdown",
      "metadata": {
        "id": "G4pN7_WSX1Er"
      },
      "source": [
        "## Question 1.f (2 points)\n",
        "\n",
        "From lecture we know that the value of `theta` that minimizes the mean squared error is the average of the data for the constant model. Assign `min_computed` to the mean of the tips dataset, and compare this to the values you observed in questions 1.d and 1.e."
      ]
    },
    {
      "cell_type": "code",
      "metadata": {
        "id": "dJwslkN7YKtG",
        "colab": {
          "base_uri": "https://localhost:8080/"
        },
        "outputId": "cf3f1e3a-a3c3-4e99-aedd-b57728bfa100"
      },
      "source": [
        "min_computed = np.mean(tips) # type your code here\n",
        "min_computed"
      ],
      "execution_count": 526,
      "outputs": [
        {
          "output_type": "execute_result",
          "data": {
            "text/plain": [
              "2.99827868852459"
            ]
          },
          "metadata": {
            "tags": []
          },
          "execution_count": 526
        }
      ]
    },
    {
      "cell_type": "markdown",
      "metadata": {
        "id": "Tf52x-PXYx2m"
      },
      "source": [
        "The reason these don't match past the first 5 decimal places is due to the fact that `scipy.minimize` is a numerical method, meaning it approximates the optimal value using some sort of iterative procedure. You shouldn't worry about the tiny differences in solutions from different runs of `minimize`.\n",
        "\n",
        "In summary, we've now seen 3 ways to find the summary statistic `theta` that minimizes the mean squared error:\n",
        "1. Create a plot of the MSE for the given data array vs. `theta` and eyeball the minimizing `theta`.\n",
        "2. Create a function that returns the MSE for a specific data array as a function of `theta` and use the scipy `minimize` function to find the exact `theta` which minimizes this function.\n",
        "3. Simply compute the `mean` of the data array.\n",
        "\n",
        "At this point, you've hopefully convinced yourself that the `mean` of the data is the summary statistic that minimizes mean squared error."
      ]
    },
    {
      "cell_type": "markdown",
      "metadata": {
        "id": "oUqn4VvtZnG7"
      },
      "source": [
        "##  Mean Absolute Error\n",
        "\n",
        "In this section, you will follow the same steps as above but for the absolute loss function. Absolute loss is defined as:\n",
        "\n",
        "$$\\Large\n",
        "L\\left(y, \\theta \\right) = \\left| y - \\theta \\right|\n",
        "$$"
      ]
    },
    {
      "cell_type": "markdown",
      "metadata": {
        "id": "rwyhEG2faNKd"
      },
      "source": [
        "## Question 1.g (2 points)\n",
        "\n",
        "In the cell below, define the function `abs_loss` which returns the absolute loss given a value of `theta` and `y_obs`. "
      ]
    },
    {
      "cell_type": "code",
      "metadata": {
        "id": "5Bi6ZG8SaLvX"
      },
      "source": [
        "def abs_loss(theta, y_obs):\n",
        "    # type your code here\n",
        "    return abs(theta - y_obs)"
      ],
      "execution_count": 527,
      "outputs": []
    },
    {
      "cell_type": "markdown",
      "metadata": {
        "id": "HQ_qQfnpanva"
      },
      "source": [
        "In the cell below, we will plot the absolute loss for different values of `theta` given that `y_obs = 10`."
      ]
    },
    {
      "cell_type": "code",
      "metadata": {
        "id": "vtMTla_saFL2",
        "colab": {
          "base_uri": "https://localhost:8080/",
          "height": 295
        },
        "outputId": "e1c60b5a-d7cf-4dc8-ff4c-d308115130b0"
      },
      "source": [
        "y_obs = 10\n",
        "theta_values = np.linspace(0, 20, 100) # some arbitrary values of theta\n",
        "plt.plot(theta_values, abs_loss(theta_values, y_obs))\n",
        "plt.xlabel(r'$\\theta$')\n",
        "plt.ylabel('L1 loss')\n",
        "plt.title('L1 Loss for different values of theta');"
      ],
      "execution_count": 528,
      "outputs": [
        {
          "output_type": "display_data",
          "data": {
            "image/png": "[encoded data removed]",
            "text/plain": [
              "<Figure size 432x288 with 1 Axes>"
            ]
          },
          "metadata": {
            "tags": [],
            "needs_background": "light"
          }
        }
      ]
    },
    {
      "cell_type": "markdown",
      "metadata": {
        "id": "GYJ8ab_scO0r"
      },
      "source": [
        "## Mean Absolute Error for the `Tips` Data"
      ]
    },
    {
      "cell_type": "markdown",
      "metadata": {
        "id": "R-7BDUEOcRpy"
      },
      "source": [
        "## Question 1.h (4 points)\n",
        "\n",
        "Define the `mean_absolute_error` function which computes the mean absolute error (MAE) given the data and a value for `theta`. Assume that `data` will be a numpy array. **You do NOT need to use the `abs_loss` function in 1.g. Your answer should not use any loops.**"
      ]
    },
    {
      "cell_type": "code",
      "metadata": {
        "id": "t0a9kT3CckuE",
        "colab": {
          "base_uri": "https://localhost:8080/"
        },
        "outputId": "9e820a0b-dd36-4577-ff16-15f7ce671e49"
      },
      "source": [
        "def mean_absolute_error(theta, data):\n",
        "    # type your code here\n",
        "    np_theta = np.ones_like(data) * theta\n",
        "    np_diff = np_theta - data\n",
        "    np_abs = np.absolute(np_diff)\n",
        "    mae = np_abs.mean()\n",
        "    return mae\n",
        "\n",
        "mean_absolute_error(5.3, tips)"
      ],
      "execution_count": 529,
      "outputs": [
        {
          "output_type": "execute_result",
          "data": {
            "text/plain": [
              "2.4527868852459016"
            ]
          },
          "metadata": {
            "tags": []
          },
          "execution_count": 529
        }
      ]
    },
    {
      "cell_type": "markdown",
      "metadata": {
        "id": "hgc7Nqvrdyc0"
      },
      "source": [
        "We will plot the mean absolute error for different theta values on the tips dataset."
      ]
    },
    {
      "cell_type": "code",
      "metadata": {
        "id": "f5QzDTD-d010",
        "colab": {
          "base_uri": "https://localhost:8080/",
          "height": 296
        },
        "outputId": "aae4dd25-83b0-412f-9850-fa27ceaacd4b"
      },
      "source": [
        "theta_values = np.linspace(0, 6, 100)\n",
        "mae = [mean_absolute_error(theta, tips) for theta in theta_values]\n",
        "plt.plot(theta_values, mae)\n",
        "plt.xlabel(r'$\\theta$')\n",
        "plt.ylabel('L1 loss')\n",
        "plt.title(r'L1 Loss for different values of $\\theta$');"
      ],
      "execution_count": 530,
      "outputs": [
        {
          "output_type": "display_data",
          "data": {
            "image/png": "[encoded data removed]",
            "text/plain": [
              "<Figure size 432x288 with 1 Axes>"
            ]
          },
          "metadata": {
            "tags": [],
            "needs_background": "light"
          }
        }
      ]
    },
    {
      "cell_type": "markdown",
      "metadata": {
        "id": "ZsmUcL0NeJt0"
      },
      "source": [
        "You should see that the plot looks somewhat similar to the plot of the mean squared error. Try to identify any key differences you observe and write them down below. This might be more fun with a partner. Note, your answer will not be graded, so don't worry about writing a detailed answer. \n",
        "\n",
        "**Note: 0 point, -5 if you do not answer**"
      ]
    },
    {
      "cell_type": "markdown",
      "metadata": {
        "id": "__33j62veY_Y"
      },
      "source": [
        "**Answer:** Even though the plot of MAE looks similar to the plot of MSE, there exists some difference. The first difference is the maximum value in y-axis, and the second difference is the minimum value in y-axis. To sum up, the range of y in the plot of MAE is around [1, 3], while this in the plot of MSE is around [2, 10]."
      ]
    },
    {
      "cell_type": "markdown",
      "metadata": {
        "id": "f-wlK7VseeMD"
      },
      "source": [
        "To minimize the function, let's zoom in closer to the minimizing `theta`. We will plot the mean absolute error again using the given `theta_values` below."
      ]
    },
    {
      "cell_type": "code",
      "metadata": {
        "id": "1QOBrPE2eoCW",
        "colab": {
          "base_uri": "https://localhost:8080/",
          "height": 296
        },
        "outputId": "371d4a1a-eb3e-4fe5-c31f-f13aa1691a6d"
      },
      "source": [
        "theta_values = np.linspace(2.7, 3.02, 100)\n",
        "mae = [mean_absolute_error(theta, tips) for theta in theta_values]\n",
        "plt.plot(theta_values, mae)\n",
        "plt.xlabel(r'$\\theta$')\n",
        "plt.ylabel('L1 Loss')\n",
        "plt.title(r'L1 Loss for different values of $\\theta$');"
      ],
      "execution_count": 531,
      "outputs": [
        {
          "output_type": "display_data",
          "data": {
            "image/png": "[encoded data removed]",
            "text/plain": [
              "<Figure size 432x288 with 1 Axes>"
            ]
          },
          "metadata": {
            "tags": [],
            "needs_background": "light"
          }
        }
      ]
    },
    {
      "cell_type": "markdown",
      "metadata": {
        "id": "gJa65Ruxfgp4"
      },
      "source": [
        "## Question 1.i (1 point)\n",
        "\n",
        "This time, observe that the function is piecewise linear and has a slope of zero near its minimum. Because of the large flat region at the minimum, there are multiple values of `theta` that minimize the L1 loss.\n",
        "\n",
        "Give a `theta` rounded to the nearest tenth that minimizes L1 loss. By \"rounded to the nearest tenth\" we mean you'd say 7.6 instead of 7.55."
      ]
    },
    {
      "cell_type": "code",
      "metadata": {
        "id": "ObHDXSbafoXW",
        "colab": {
          "base_uri": "https://localhost:8080/"
        },
        "outputId": "8b99bbbd-882b-48cf-9a21-af63129337e9"
      },
      "source": [
        "mae_observed_theta = round(theta_values[mae.index(min(mae))], 1) # type your observation here\n",
        "mae_observed_theta"
      ],
      "execution_count": 532,
      "outputs": [
        {
          "output_type": "execute_result",
          "data": {
            "text/plain": [
              "2.9"
            ]
          },
          "metadata": {
            "tags": []
          },
          "execution_count": 532
        }
      ]
    },
    {
      "cell_type": "markdown",
      "metadata": {
        "id": "yw5ZWXTUgAQW"
      },
      "source": [
        "## Question 1.j (5 points)\n",
        "\n",
        "As before, we will use the `minimize` function to find a solution. Note that we will be minimizing the mean absolute error for our tips dataset. Assign `min_abs_scipy` to the value of `theta` that minimizes the MAE according to the `minimize` function for the `tips` data. Note: Depending on the `x0` value you specify, you will get different results! \n",
        "\n",
        "Extra: Try various `x0` values and record the different outputs you get from `minimize`. Use the plot you created above to verify that these are all valid minimizing statistics."
      ]
    },
    {
      "cell_type": "code",
      "metadata": {
        "id": "MNANZ9ywgWlK",
        "colab": {
          "base_uri": "https://localhost:8080/",
          "height": 331
        },
        "outputId": "147f21af-be18-460f-cf89-2bb8d88e04e3"
      },
      "source": [
        "# define your function here\n",
        "def mae_theta(theta):\n",
        "    # type your code here\n",
        "    np_theta = np.ones_like(tips) * theta\n",
        "    np_diff = np_theta - tips\n",
        "    np_abs = np.absolute(np_diff)\n",
        "    mae = np_abs.mean()\n",
        "    return mae\n",
        "    \n",
        "# use the code below to minimize\n",
        "min_abs_scipy = minimize(mae_theta, x0=0.0)['x'][0]\n",
        "print('when x0 is 0, min_abs_scipy is: ', min_abs_scipy)\n",
        "\n",
        "# extra part\n",
        "np_x = np.linspace(0, 4, 50)\n",
        "np_min_abs_scipy = [minimize(mae_theta, x0=xi)['x'][0] for xi in np_x]\n",
        "plt.plot(np_x, np_min_abs_scipy)\n",
        "plt.xlabel(\"x0\")\n",
        "plt.ylabel(\"min_abs_scipy\")\n",
        "plt.title(\"The relation between min_abs_scipy and x0\")"
      ],
      "execution_count": 533,
      "outputs": [
        {
          "output_type": "stream",
          "text": [
            "when x0 is 0, min_abs_scipy is:  2.891549525263021\n"
          ],
          "name": "stdout"
        },
        {
          "output_type": "execute_result",
          "data": {
            "text/plain": [
              "Text(0.5, 1.0, 'The relation between min_abs_scipy and x0')"
            ]
          },
          "metadata": {
            "tags": []
          },
          "execution_count": 533
        },
        {
          "output_type": "display_data",
          "data": {
            "image/png": "[encoded data removed]",
            "text/plain": [
              "<Figure size 432x288 with 1 Axes>"
            ]
          },
          "metadata": {
            "tags": [],
            "needs_background": "light"
          }
        }
      ]
    },
    {
      "cell_type": "markdown",
      "metadata": {
        "id": "MreWXVuMg_b-"
      },
      "source": [
        "Just like the MSE, there are three ways to compute the summary statistic `theta` that minimizes the MAE:\n",
        "1. Create a plot of the MAE for the given data array vs. `theta` and eyeball a minimizing `theta`.\n",
        "2. Create a function that returns the MAE for a specific data array as a function of `theta` and use the scipy `minimize` function to find an exact `theta` which minimizes this function.\n",
        "3. Simply compute the **??????** of the data array.\n",
        "\n",
        "Try to figure out what to substitute in for the **??????** above. To this, try out various statistics functions provided by `np`. A list and documentation is available at [https://docs.scipy.org/doc/numpy/reference/routines.statistics.html](https://docs.scipy.org/doc/numpy/reference/routines.statistics.html)."
      ]
    },
    {
      "cell_type": "markdown",
      "metadata": {
        "id": "96Rx_W3Whe3V"
      },
      "source": [
        "## Question 1.k (2 points)\n",
        "\n",
        "Assign `min_abs_computed` to the correct summary statistic using method `#3` outlined above."
      ]
    },
    {
      "cell_type": "code",
      "metadata": {
        "id": "pJGpTarWhpme",
        "colab": {
          "base_uri": "https://localhost:8080/"
        },
        "outputId": "87de5a3d-0c6b-486e-82a5-8f060fd5e87f"
      },
      "source": [
        "min_abs_computed = np.median(tips) # type your code here\n",
        "min_abs_computed"
      ],
      "execution_count": 534,
      "outputs": [
        {
          "output_type": "execute_result",
          "data": {
            "text/plain": [
              "2.9"
            ]
          },
          "metadata": {
            "tags": []
          },
          "execution_count": 534
        }
      ]
    },
    {
      "cell_type": "markdown",
      "metadata": {
        "id": "kFctlN5kidlg"
      },
      "source": [
        "In summary, you may observe three key differences between the plots of the MSE and MAE.\n",
        "\n",
        "1. The minimizing $\\theta$ is different.\n",
        "2. The plot for MAE increases linearly instead of quadratically as we move far away from the minimizing $\\theta$.\n",
        "3. The plot for MAE is piecewise linear instead of smooth. Each change in slope happens at the same $\\theta$ value as a data point in our dataset."
      ]
    },
    {
      "cell_type": "markdown",
      "metadata": {
        "id": "_Iv9JT65i4tG"
      },
      "source": [
        "# Part II: Simple Linear Regression\n",
        "\n",
        "In this section, we're interested in studying the **relationship between two variables**. Specifically, we're interested in the relationship between the `total_bill` column and `tip` column. Our goal will be to predict tip ($y$) from total_bill ($x$), i.e., we want to find values of $a$ and $b$ so that given $x$, predict $y$ as\n",
        "$$\\boxed{\\hat{y} = a + bx}$$\n",
        "We will now explore different ways to obtain the optimal values of $a, b$, called $\\hat{a}, \\hat{b}$, where $\\hat{y} = \\hat{a} + \\hat{b}x$.\n",
        "\n",
        "First, let's run `sns.lmplot`, which will both provide a scatterplot of tip vs total_bill and display the least-squares line of best fit. We will look into solving for the line of best fit in three different ways: manually using the formula from lecture, scipy.optimize, and scikit-learn."
      ]
    },
    {
      "cell_type": "code",
      "metadata": {
        "id": "IHEeq6Hrj9Vi",
        "colab": {
          "base_uri": "https://localhost:8080/",
          "height": 385
        },
        "outputId": "0c53b0ed-6947-4d6e-afbb-025eb7bdd6ce"
      },
      "source": [
        "sns.lmplot(data = df, x = \"total_bill\", y = \"tip\");"
      ],
      "execution_count": 535,
      "outputs": [
        {
          "output_type": "display_data",
          "data": {
            "image/png": "[encoded data removed]",
            "text/plain": [
              "<Figure size 360x360 with 1 Axes>"
            ]
          },
          "metadata": {
            "tags": [],
            "needs_background": "light"
          }
        }
      ]
    },
    {
      "cell_type": "markdown",
      "metadata": {
        "id": "ucbS2KsLkEkR"
      },
      "source": [
        "## Analytic Solution\n",
        "\n",
        "Using slides 36-37 of Lecture 4 and definitions of standard deviation and correlation in Lecture 5, we can derive the following expression for the line of best fit.\n",
        "\n",
        "$$\\hat{y_i} = \\bar{y} + r \\frac{SD(y)}{SD(x)} (x_i - \\bar{x})$$\n",
        "\n",
        "where $\\bar{x}$, $\\bar{y}$, $SD(x)$, $SD(y)$ correspond to the means and standard deviations of $x$ and $y$, respectively, and $r$ is the correlation coefficient."
      ]
    },
    {
      "cell_type": "markdown",
      "metadata": {
        "id": "KFSJBW4SnL--"
      },
      "source": [
        "## Question 2.a (5 points)\n",
        "\n",
        "Assign `x_bar`, `y_bar`, `std_x`, `std_y`, and `r`, such that they align with our dataset. Note: Make sure to use `np.std`, and not `<Series name>.std()`.\n",
        "\n",
        "- Hint: Remember, in our case, `y` is `tip`, and `x` is `total_bill`.\n",
        "- Hint: You may find `np.corrcoef` handy in computing `r`. Note that the output of `np.corrcoef` is a matrix, not a number, so you'll need to collect the correlation coefficient by indexing into the returned array."
      ]
    },
    {
      "cell_type": "code",
      "metadata": {
        "id": "D0BlgXE-napd",
        "colab": {
          "base_uri": "https://localhost:8080/"
        },
        "outputId": "2fe702da-139d-4a47-eca4-3606d350319d"
      },
      "source": [
        "# type your code here\n",
        "np_tip = df['tip'].to_numpy()\n",
        "np_total_bill = df['total_bill'].to_numpy()\n",
        "x_bar = np_total_bill.mean() \n",
        "y_bar = np_tip.mean()\n",
        "std_x = np.std(np_total_bill)\n",
        "std_y = np.std(np_tip)\n",
        "r = np.corrcoef(np_total_bill, np_tip)[0][1]\n",
        "\n",
        "x_bar, y_bar, std_x, std_y, r"
      ],
      "execution_count": 536,
      "outputs": [
        {
          "output_type": "execute_result",
          "data": {
            "text/plain": [
              "(19.78594262295082,\n",
              " 2.99827868852459,\n",
              " 8.884150577771132,\n",
              " 1.3807999538298954,\n",
              " 0.6757341092113641)"
            ]
          },
          "metadata": {
            "tags": []
          },
          "execution_count": 536
        }
      ]
    },
    {
      "cell_type": "markdown",
      "metadata": {
        "id": "6W6LUrcdo_Nb"
      },
      "source": [
        "## Question 2.b (3 points)\n",
        "\n",
        "Now, set `b_hat` and `a_hat` correctly, in terms of the variables you defined above. \n",
        "\n",
        "- Hint: Try and match the slope and intercept in $\\hat{y_i} = \\hat{a} + \\hat{b}x_i$ to the slope and intercept in $\\hat{y_i} = \\bar{y} + r \\frac{SD(y)}{SD(x)} (x_i - \\bar{x})$.\n",
        "\n",
        "- Hint: You may want to define `a_hat` in terms of `b_hat` as in the lecture 4.\n"
      ]
    },
    {
      "cell_type": "code",
      "metadata": {
        "id": "9gPd_3VUpSl4",
        "colab": {
          "base_uri": "https://localhost:8080/"
        },
        "outputId": "c235062d-6621-4c29-8b63-af76f4d5a57f"
      },
      "source": [
        "# type your code here\n",
        "b_hat = r * std_y / std_x\n",
        "a_hat = y_bar - x_bar * b_hat\n",
        "\n",
        "a_hat, b_hat"
      ],
      "execution_count": 537,
      "outputs": [
        {
          "output_type": "execute_result",
          "data": {
            "text/plain": [
              "(0.9202696135546735, 0.10502451738435334)"
            ]
          },
          "metadata": {
            "tags": []
          },
          "execution_count": 537
        }
      ]
    },
    {
      "cell_type": "markdown",
      "metadata": {
        "id": "XTkPpfP0qKH5"
      },
      "source": [
        "## Question 2.c (2 points)\n",
        "\n",
        "Now, use `a_hat` and `b_hat` to predict the tip for a total bill amount of $20. Store your result in `predicted_20`."
      ]
    },
    {
      "cell_type": "code",
      "metadata": {
        "id": "CxoV5oEfqQ6D",
        "colab": {
          "base_uri": "https://localhost:8080/"
        },
        "outputId": "a9951e22-164a-47be-c335-57ef3a3945d1"
      },
      "source": [
        "predicted_20 = a_hat + b_hat * 20 # type your code here\n",
        "\n",
        "predicted_20"
      ],
      "execution_count": 538,
      "outputs": [
        {
          "output_type": "execute_result",
          "data": {
            "text/plain": [
              "3.0207599612417404"
            ]
          },
          "metadata": {
            "tags": []
          },
          "execution_count": 538
        }
      ]
    },
    {
      "cell_type": "markdown",
      "metadata": {
        "id": "3rX5kZUgqkz-"
      },
      "source": [
        "## Question 2.d (1 point)\n",
        "\n",
        "Assign `regression` to be a `pd.Series` of predicted $y$ values (i.e., predicted `\"tip\"` values) for the observed total bills (`df[\"total_bill\"]`). You will need to use `a_hat`, `b_hat`, and `df[\"total_bill\"]`."
      ]
    },
    {
      "cell_type": "code",
      "metadata": {
        "id": "kOy0UytPq9UL",
        "colab": {
          "base_uri": "https://localhost:8080/"
        },
        "outputId": "0e9a8ada-79e8-46aa-d704-f4da45ec103c"
      },
      "source": [
        "regression = df['total_bill'].apply(lambda x: a_hat + b_hat * x) # type your code here\n",
        "\n",
        "regression"
      ],
      "execution_count": 539,
      "outputs": [
        {
          "output_type": "execute_result",
          "data": {
            "text/plain": [
              "0      2.704636\n",
              "1      2.006223\n",
              "2      3.126835\n",
              "3      3.407250\n",
              "4      3.502822\n",
              "         ...   \n",
              "239    3.969131\n",
              "240    3.774836\n",
              "241    3.301175\n",
              "242    2.791807\n",
              "243    2.892630\n",
              "Name: total_bill, Length: 244, dtype: float64"
            ]
          },
          "metadata": {
            "tags": []
          },
          "execution_count": 539
        }
      ]
    },
    {
      "cell_type": "markdown",
      "metadata": {
        "id": "Q8iblCX1rZME"
      },
      "source": [
        "If you defined `regression` correctly, the following cell will generate a scatter plot of `tip` vs. `total_bill`, along with the line of best fit you just computed."
      ]
    },
    {
      "cell_type": "code",
      "metadata": {
        "id": "L6mpJKWwrfJz",
        "colab": {
          "base_uri": "https://localhost:8080/",
          "height": 278
        },
        "outputId": "929d051c-f548-4f7f-a3d6-f053d21832ae"
      },
      "source": [
        "sns.scatterplot(x='total_bill', y='tip', data=df)\n",
        "plt.plot(df[\"total_bill\"], regression, color = 'r')\n",
        "plt.xlabel('total_bill')\n",
        "plt.ylabel('tip');"
      ],
      "execution_count": 540,
      "outputs": [
        {
          "output_type": "display_data",
          "data": {
            "image/png": "[encoded data removed]",
            "text/plain": [
              "<Figure size 432x288 with 1 Axes>"
            ]
          },
          "metadata": {
            "tags": [],
            "needs_background": "light"
          }
        }
      ]
    },
    {
      "cell_type": "markdown",
      "metadata": {
        "id": "hy6pgW2MrzSa"
      },
      "source": [
        "## Using Scipy Minimize\n",
        "\n",
        "`scipy.minimize` is a powerful method that can determine the optimal value of a variety of different functions. In practice, it is used to minimize functions that have no (or difficult to obtain) analytical solutions (it is a **numerical method**).\n",
        "\n",
        "It is overkill for our simple example, but nonetheless, we will show you how to use it, as it will become useful in your future."
      ]
    },
    {
      "cell_type": "markdown",
      "metadata": {
        "id": "yAj0Whm-s_nW"
      },
      "source": [
        "## Question 2.e (6 points)\n",
        "\n",
        "First, we define the function `l2_tip_risk` which computes the empirical risk for a given choice of `a` and `b`. That is, it computes\n",
        "\n",
        "$$R(a, b) = \\frac{1}{n} \\sum_{i = 1}^n(y_i - (a + b x_i))^2$$\n",
        "\n",
        "where, again, $x$ and $y$ refer to `\"total_bill\"` and `\"tip\"`.\n",
        "\n",
        "For your own purpose of testing, you may try out different `a` and `b` values. Observe that if you pick values close to the ones from the earlier part then the risk is lower. "
      ]
    },
    {
      "cell_type": "code",
      "metadata": {
        "id": "Bf8aJbRosff6",
        "colab": {
          "base_uri": "https://localhost:8080/"
        },
        "outputId": "9a7c81a0-d484-4289-b87a-2b08dfb0b490"
      },
      "source": [
        "def l2_tip_risk(a, b):\n",
        "    \"\"\"Returns average l2 loss between regression line for intercept a \n",
        "       and slope b\"\"\"\n",
        "    # type your code here\n",
        "    np_tip, np_total_bill\n",
        "    np_pre = a + b * np_total_bill\n",
        "    np_diff = np_tip - np_pre\n",
        "    np_square = np.square(np_diff)\n",
        "    ave_l2_loss = np_square.mean()\n",
        "    return ave_l2_loss\n",
        "\n",
        "\n",
        "l2_tip_risk(0.9, 0.1)"
      ],
      "execution_count": 541,
      "outputs": [
        {
          "output_type": "execute_result",
          "data": {
            "text/plain": [
              "1.052336405737705"
            ]
          },
          "metadata": {
            "tags": []
          },
          "execution_count": 541
        }
      ]
    },
    {
      "cell_type": "markdown",
      "metadata": {
        "id": "Q7s28f1ZuW_L"
      },
      "source": [
        "The `minimize` function can also minimize functions of multiple variables. There's one quirk, however, which is that the function has to accept its parameters as a single list.\n",
        "\n",
        "For example, consider the multivariate $f(u, v) = u^2 - 2 u v - 3 v + 2 v^2$. It turns out this function's minimum is at $(1.5, 1.5)$. To minimize this function, we create `f`."
      ]
    },
    {
      "cell_type": "code",
      "metadata": {
        "id": "rUpOPZVHu8Yu"
      },
      "source": [
        "def f(theta):\n",
        "    u = theta[0]\n",
        "    v = theta[1]\n",
        "    return u**2 - 2 * u * v - 3 * v + 2 * v**2"
      ],
      "execution_count": 542,
      "outputs": []
    },
    {
      "cell_type": "code",
      "metadata": {
        "id": "4FTyeiFHvKmf",
        "colab": {
          "base_uri": "https://localhost:8080/"
        },
        "outputId": "ec410989-0fee-427c-f1e2-dbcbcecab895"
      },
      "source": [
        "from scipy.optimize import minimize\n",
        "minimize(f, x0 = [0.0, 0.0]) \n",
        "\n",
        "# As an aside: x0 is the \"initial guess\" for the optimal theta. Minimize iteratively updates theta."
      ],
      "execution_count": 543,
      "outputs": [
        {
          "output_type": "execute_result",
          "data": {
            "text/plain": [
              "      fun: -2.2499999999999947\n",
              " hess_inv: array([[0.99999996, 0.49999997],\n",
              "       [0.49999997, 0.49999999]])\n",
              "      jac: array([-5.96046448e-08, -5.96046448e-08])\n",
              "  message: 'Optimization terminated successfully.'\n",
              "     nfev: 16\n",
              "      nit: 3\n",
              "     njev: 4\n",
              "   status: 0\n",
              "  success: True\n",
              "        x: array([1.49999991, 1.49999993])"
            ]
          },
          "metadata": {
            "tags": []
          },
          "execution_count": 543
        }
      ]
    },
    {
      "cell_type": "markdown",
      "metadata": {
        "id": "XDJCqmRHvYKj"
      },
      "source": [
        "## Question 2.f (2 points)\n",
        "\n",
        "Define `l2_tip_risk_list` which is exactly like `l2_tip_risk` except that it takes in a single list of 2 variables rather than two separate variables. For example `l2_tip_risk_list([2, 3])` should return the same value as `l2_tip_risk(2, 3)`."
      ]
    },
    {
      "cell_type": "code",
      "metadata": {
        "id": "qrUI8NGOvesE",
        "colab": {
          "base_uri": "https://localhost:8080/"
        },
        "outputId": "684a3947-0c19-48dc-853d-135e8fcb4721"
      },
      "source": [
        "def l2_tip_risk_list(theta):\n",
        "    \"\"\"Returns average l2 loss between regression line for intercept a \n",
        "       and slope b\"\"\"\n",
        "    # type your code here\n",
        "    a, b = theta[0], theta[1]\n",
        "    return l2_tip_risk(a, b)\n",
        "\n",
        "l2_tip_risk_list([0.9, 0.1]) "
      ],
      "execution_count": 544,
      "outputs": [
        {
          "output_type": "execute_result",
          "data": {
            "text/plain": [
              "1.052336405737705"
            ]
          },
          "metadata": {
            "tags": []
          },
          "execution_count": 544
        }
      ]
    },
    {
      "cell_type": "markdown",
      "metadata": {
        "id": "zLgvvUgqwNwt"
      },
      "source": [
        "## Question 2.g (4 points)\n",
        "\n",
        "Now, set `minimized` to the result of calling `minimize` to optimize this risk function.\n",
        "\n",
        "- Hint: Make sure to set `x0`."
      ]
    },
    {
      "cell_type": "code",
      "metadata": {
        "id": "fjLyqM3swSNs",
        "colab": {
          "base_uri": "https://localhost:8080/"
        },
        "outputId": "92447caf-5d2f-4d6d-f618-38eaba4abcc7"
      },
      "source": [
        "minimized = minimize(l2_tip_risk_list, x0 = [0.0, 0.0]) # type your code here\n",
        "\n",
        "minimized"
      ],
      "execution_count": 545,
      "outputs": [
        {
          "output_type": "execute_result",
          "data": {
            "text/plain": [
              "      fun: 1.0360194420114932\n",
              " hess_inv: array([[ 2.9799997 , -0.1253415 ],\n",
              "       [-0.1253415 ,  0.00633488]])\n",
              "      jac: array([-4.47034836e-08, -2.98023224e-08])\n",
              "  message: 'Optimization terminated successfully.'\n",
              "     nfev: 20\n",
              "      nit: 3\n",
              "     njev: 5\n",
              "   status: 0\n",
              "  success: True\n",
              "        x: array([0.92027035, 0.10502448])"
            ]
          },
          "metadata": {
            "tags": []
          },
          "execution_count": 545
        }
      ]
    },
    {
      "cell_type": "markdown",
      "metadata": {
        "id": "o_hJ8wGRxna3"
      },
      "source": [
        "The following cell will print out the values of `a_hat` and `b_hat` computed from both methods (\"manual\" refers to the technique in Analytic Solution). If you've done everything correctly, these should be very close to one another."
      ]
    },
    {
      "cell_type": "code",
      "metadata": {
        "id": "-wKbumtSxuB2",
        "colab": {
          "base_uri": "https://localhost:8080/"
        },
        "outputId": "e209fee2-b557-4db2-f448-608f039d7ce3"
      },
      "source": [
        "print('a_hat_scipy: ', minimized['x'][0])\n",
        "print('a_hat_manual: ', a_hat)\n",
        "print('\\n')\n",
        "print('b_hat_scipy: ', minimized['x'][1])\n",
        "print('b_hat_manual: ', b_hat)"
      ],
      "execution_count": 546,
      "outputs": [
        {
          "output_type": "stream",
          "text": [
            "a_hat_scipy:  0.9202703450693733\n",
            "a_hat_manual:  0.9202696135546735\n",
            "\n",
            "\n",
            "b_hat_scipy:  0.10502447914641164\n",
            "b_hat_manual:  0.10502451738435334\n"
          ],
          "name": "stdout"
        }
      ]
    },
    {
      "cell_type": "markdown",
      "metadata": {
        "id": "on1xbe7_yYvm"
      },
      "source": [
        "## Using Scikit Learn\n",
        "\n",
        "Yet another way to fit a linear regression model is to use scikit learn, an industry standard package for machine learning applications. \n",
        "\n",
        "To do so, we first create a `LinearRegression` object."
      ]
    },
    {
      "cell_type": "code",
      "metadata": {
        "id": "e2ZMN049ygJn"
      },
      "source": [
        "from sklearn.linear_model import LinearRegression\n",
        "model = LinearRegression()"
      ],
      "execution_count": 547,
      "outputs": []
    },
    {
      "cell_type": "markdown",
      "metadata": {
        "id": "iom-jQ-Yynqn"
      },
      "source": [
        "Here, `model` is like a \"blank slate\" for a linear model. Now, we need to tell `model` to \"fit\" itself to the data. Essentially, this is doing exactly what you did in the previous part (creating a risk function and finding the parameters that minimize that risk).\n",
        "\n",
        "<i>Note: `X` needs to be a matrix (or DataFrame), as opposed to a single array (or Series). This is because `sklearn.linear_model` is robust enough to be used for multiple regression</i>"
      ]
    },
    {
      "cell_type": "code",
      "metadata": {
        "id": "jDmmxqBgy4aM",
        "colab": {
          "base_uri": "https://localhost:8080/"
        },
        "outputId": "ae6d121b-35c7-45ef-e606-33d26fa36ae0"
      },
      "source": [
        "model.fit(X = df[['total_bill']], y= df['tip'])"
      ],
      "execution_count": 548,
      "outputs": [
        {
          "output_type": "execute_result",
          "data": {
            "text/plain": [
              "LinearRegression(copy_X=True, fit_intercept=True, n_jobs=None, normalize=False)"
            ]
          },
          "metadata": {
            "tags": []
          },
          "execution_count": 548
        }
      ]
    },
    {
      "cell_type": "markdown",
      "metadata": {
        "id": "PvHez025zRq6"
      },
      "source": [
        "Now that the model exists, we can look at the a_hat and b_hat values it found, which are given in the attributes intercept and coef, respectively."
      ]
    },
    {
      "cell_type": "code",
      "metadata": {
        "id": "AIOu0s7TzQ1n",
        "colab": {
          "base_uri": "https://localhost:8080/"
        },
        "outputId": "b9122fe5-0448-4a02-eba6-8ad1831d68ef"
      },
      "source": [
        "model.coef_, model.intercept_"
      ],
      "execution_count": 549,
      "outputs": [
        {
          "output_type": "execute_result",
          "data": {
            "text/plain": [
              "(array([0.10502452]), 0.9202696135546731)"
            ]
          },
          "metadata": {
            "tags": []
          },
          "execution_count": 549
        }
      ]
    },
    {
      "cell_type": "markdown",
      "metadata": {
        "id": "Fe5xXCqTztfV"
      },
      "source": [
        "To use the `scikit-learn` linear regression model to make predictions, you can use the `model.predict` method:"
      ]
    },
    {
      "cell_type": "code",
      "metadata": {
        "id": "Nbyxyf4izv7h",
        "colab": {
          "base_uri": "https://localhost:8080/"
        },
        "outputId": "e9334dc2-3b10-4df3-e113-38e7aed80cd5"
      },
      "source": [
        "model.predict([[20]]) # 20 needs to be a 2D array since the X above was a 2D array."
      ],
      "execution_count": 550,
      "outputs": [
        {
          "output_type": "execute_result",
          "data": {
            "text/plain": [
              "array([3.02075996])"
            ]
          },
          "metadata": {
            "tags": []
          },
          "execution_count": 550
        }
      ]
    },
    {
      "cell_type": "markdown",
      "metadata": {
        "id": "4paWE8WP0Akf"
      },
      "source": [
        "The above line of code tells us that `model` predicts a tip of $\\$3.02$ given a total bill amount of $\\$20$. This is the same as in Question 2.c."
      ]
    },
    {
      "cell_type": "markdown",
      "metadata": {
        "id": "_czAC-OT0Nni"
      },
      "source": [
        "## Question 2.h (3 points)\n",
        "\n",
        "Create a linear regression plot using `model.predict`. It should look very similar (if not the same) as your plot from Question 2.d."
      ]
    },
    {
      "cell_type": "code",
      "metadata": {
        "id": "pS69PlAV0oFU",
        "colab": {
          "base_uri": "https://localhost:8080/",
          "height": 278
        },
        "outputId": "6c675d1c-20bb-4dca-b37b-054c04cc8a8b"
      },
      "source": [
        "predicted_tip = [model.predict([[x]]) for x in np_total_bill] # type your code here\n",
        "sns.scatterplot(x='total_bill', y='tip', data=df)\n",
        "plt.plot(df[\"total_bill\"],  predicted_tip, color = 'r');"
      ],
      "execution_count": 551,
      "outputs": [
        {
          "output_type": "display_data",
          "data": {
            "image/png": "[encoded data removed]",
            "text/plain": [
              "<Figure size 432x288 with 1 Axes>"
            ]
          },
          "metadata": {
            "tags": [],
            "needs_background": "light"
          }
        }
      ]
    },
    {
      "cell_type": "markdown",
      "metadata": {
        "id": "RdWOHxengg2P"
      },
      "source": [
        "# Part III: Multiple Linear Regression\n",
        "\n",
        "First, we need to make sure the sklearn (scikit-learn) package that contains simple and efficient tools for data mining and data analysis is imported. Then, we load a data set from the sklearn.datasets as an example."
      ]
    },
    {
      "cell_type": "code",
      "metadata": {
        "id": "6lZzQoBsgg2P",
        "colab": {
          "base_uri": "https://localhost:8080/"
        },
        "outputId": "5e552ecf-1baa-466b-c9ee-3f090ddc0b3b"
      },
      "source": [
        "import sklearn.datasets as mldata\n",
        "data_dict = mldata.load_boston()\n",
        "print(data_dict['DESCR'])"
      ],
      "execution_count": 552,
      "outputs": [
        {
          "output_type": "stream",
          "text": [
            ".. _boston_dataset:\n",
            "\n",
            "Boston house prices dataset\n",
            "---------------------------\n",
            "\n",
            "**Data Set Characteristics:**  \n",
            "\n",
            "    :Number of Instances: 506 \n",
            "\n",
            "    :Number of Attributes: 13 numeric/categorical predictive. Median Value (attribute 14) is usually the target.\n",
            "\n",
            "    :Attribute Information (in order):\n",
            "        - CRIM     per capita crime rate by town\n",
            "        - ZN       proportion of residential land zoned for lots over 25,000 sq.ft.\n",
            "        - INDUS    proportion of non-retail business acres per town\n",
            "        - CHAS     Charles River dummy variable (= 1 if tract bounds river; 0 otherwise)\n",
            "        - NOX      nitric oxides concentration (parts per 10 million)\n",
            "        - RM       average number of rooms per dwelling\n",
            "        - AGE      proportion of owner-occupied units built prior to 1940\n",
            "        - DIS      weighted distances to five Boston employment centres\n",
            "        - RAD      index of accessibility to radial highways\n",
            "        - TAX      full-value property-tax rate per $10,000\n",
            "        - PTRATIO  pupil-teacher ratio by town\n",
            "        - B        1000(Bk - 0.63)^2 where Bk is the proportion of blacks by town\n",
            "        - LSTAT    % lower status of the population\n",
            "        - MEDV     Median value of owner-occupied homes in $1000's\n",
            "\n",
            "    :Missing Attribute Values: None\n",
            "\n",
            "    :Creator: Harrison, D. and Rubinfeld, D.L.\n",
            "\n",
            "This is a copy of UCI ML housing dataset.\n",
            "https://archive.ics.uci.edu/ml/machine-learning-databases/housing/\n",
            "\n",
            "\n",
            "This dataset was taken from the StatLib library which is maintained at Carnegie Mellon University.\n",
            "\n",
            "The Boston house-price data of Harrison, D. and Rubinfeld, D.L. 'Hedonic\n",
            "prices and the demand for clean air', J. Environ. Economics & Management,\n",
            "vol.5, 81-102, 1978.   Used in Belsley, Kuh & Welsch, 'Regression diagnostics\n",
            "...', Wiley, 1980.   N.B. Various transformations are used in the table on\n",
            "pages 244-261 of the latter.\n",
            "\n",
            "The Boston house-price data has been used in many machine learning papers that address regression\n",
            "problems.   \n",
            "     \n",
            ".. topic:: References\n",
            "\n",
            "   - Belsley, Kuh & Welsch, 'Regression diagnostics: Identifying Influential Data and Sources of Collinearity', Wiley, 1980. 244-261.\n",
            "   - Quinlan,R. (1993). Combining Instance-Based and Model-Based Learning. In Proceedings on the Tenth International Conference of Machine Learning, 236-243, University of Massachusetts, Amherst. Morgan Kaufmann.\n",
            "\n"
          ],
          "name": "stdout"
        }
      ]
    },
    {
      "cell_type": "code",
      "metadata": {
        "id": "vdN4VMkcgg2Q",
        "colab": {
          "base_uri": "https://localhost:8080/",
          "height": 197
        },
        "outputId": "ba688167-90b5-42fb-a6fd-6e5cd6a02bfe"
      },
      "source": [
        "# translate the data_dict to dataframe and we aim to use all features for the regressor\n",
        "housing = pd.DataFrame(data_dict['data'], columns=data_dict['feature_names']) \n",
        "housing['MEDV'] = data_dict['target'] \n",
        "housing.head()"
      ],
      "execution_count": 553,
      "outputs": [
        {
          "output_type": "execute_result",
          "data": {
            "text/html": [
              "<div>\n",
              "<style scoped>\n",
              "    .dataframe tbody tr th:only-of-type {\n",
              "        vertical-align: middle;\n",
              "    }\n",
              "\n",
              "    .dataframe tbody tr th {\n",
              "        vertical-align: top;\n",
              "    }\n",
              "\n",
              "    .dataframe thead th {\n",
              "        text-align: right;\n",
              "    }\n",
              "</style>\n",
              "<table border=\"1\" class=\"dataframe\">\n",
              "  <thead>\n",
              "    <tr style=\"text-align: right;\">\n",
              "      <th></th>\n",
              "      <th>CRIM</th>\n",
              "      <th>ZN</th>\n",
              "      <th>INDUS</th>\n",
              "      <th>CHAS</th>\n",
              "      <th>NOX</th>\n",
              "      <th>RM</th>\n",
              "      <th>AGE</th>\n",
              "      <th>DIS</th>\n",
              "      <th>RAD</th>\n",
              "      <th>TAX</th>\n",
              "      <th>PTRATIO</th>\n",
              "      <th>B</th>\n",
              "      <th>LSTAT</th>\n",
              "      <th>MEDV</th>\n",
              "    </tr>\n",
              "  </thead>\n",
              "  <tbody>\n",
              "    <tr>\n",
              "      <th>0</th>\n",
              "      <td>0.00632</td>\n",
              "      <td>18.0</td>\n",
              "      <td>2.31</td>\n",
              "      <td>0.0</td>\n",
              "      <td>0.538</td>\n",
              "      <td>6.575</td>\n",
              "      <td>65.2</td>\n",
              "      <td>4.0900</td>\n",
              "      <td>1.0</td>\n",
              "      <td>296.0</td>\n",
              "      <td>15.3</td>\n",
              "      <td>396.90</td>\n",
              "      <td>4.98</td>\n",
              "      <td>24.0</td>\n",
              "    </tr>\n",
              "    <tr>\n",
              "      <th>1</th>\n",
              "      <td>0.02731</td>\n",
              "      <td>0.0</td>\n",
              "      <td>7.07</td>\n",
              "      <td>0.0</td>\n",
              "      <td>0.469</td>\n",
              "      <td>6.421</td>\n",
              "      <td>78.9</td>\n",
              "      <td>4.9671</td>\n",
              "      <td>2.0</td>\n",
              "      <td>242.0</td>\n",
              "      <td>17.8</td>\n",
              "      <td>396.90</td>\n",
              "      <td>9.14</td>\n",
              "      <td>21.6</td>\n",
              "    </tr>\n",
              "    <tr>\n",
              "      <th>2</th>\n",
              "      <td>0.02729</td>\n",
              "      <td>0.0</td>\n",
              "      <td>7.07</td>\n",
              "      <td>0.0</td>\n",
              "      <td>0.469</td>\n",
              "      <td>7.185</td>\n",
              "      <td>61.1</td>\n",
              "      <td>4.9671</td>\n",
              "      <td>2.0</td>\n",
              "      <td>242.0</td>\n",
              "      <td>17.8</td>\n",
              "      <td>392.83</td>\n",
              "      <td>4.03</td>\n",
              "      <td>34.7</td>\n",
              "    </tr>\n",
              "    <tr>\n",
              "      <th>3</th>\n",
              "      <td>0.03237</td>\n",
              "      <td>0.0</td>\n",
              "      <td>2.18</td>\n",
              "      <td>0.0</td>\n",
              "      <td>0.458</td>\n",
              "      <td>6.998</td>\n",
              "      <td>45.8</td>\n",
              "      <td>6.0622</td>\n",
              "      <td>3.0</td>\n",
              "      <td>222.0</td>\n",
              "      <td>18.7</td>\n",
              "      <td>394.63</td>\n",
              "      <td>2.94</td>\n",
              "      <td>33.4</td>\n",
              "    </tr>\n",
              "    <tr>\n",
              "      <th>4</th>\n",
              "      <td>0.06905</td>\n",
              "      <td>0.0</td>\n",
              "      <td>2.18</td>\n",
              "      <td>0.0</td>\n",
              "      <td>0.458</td>\n",
              "      <td>7.147</td>\n",
              "      <td>54.2</td>\n",
              "      <td>6.0622</td>\n",
              "      <td>3.0</td>\n",
              "      <td>222.0</td>\n",
              "      <td>18.7</td>\n",
              "      <td>396.90</td>\n",
              "      <td>5.33</td>\n",
              "      <td>36.2</td>\n",
              "    </tr>\n",
              "  </tbody>\n",
              "</table>\n",
              "</div>"
            ],
            "text/plain": [
              "      CRIM    ZN  INDUS  CHAS    NOX  ...    TAX  PTRATIO       B  LSTAT  MEDV\n",
              "0  0.00632  18.0   2.31   0.0  0.538  ...  296.0     15.3  396.90   4.98  24.0\n",
              "1  0.02731   0.0   7.07   0.0  0.469  ...  242.0     17.8  396.90   9.14  21.6\n",
              "2  0.02729   0.0   7.07   0.0  0.469  ...  242.0     17.8  392.83   4.03  34.7\n",
              "3  0.03237   0.0   2.18   0.0  0.458  ...  222.0     18.7  394.63   2.94  33.4\n",
              "4  0.06905   0.0   2.18   0.0  0.458  ...  222.0     18.7  396.90   5.33  36.2\n",
              "\n",
              "[5 rows x 14 columns]"
            ]
          },
          "metadata": {
            "tags": []
          },
          "execution_count": 553
        }
      ]
    },
    {
      "cell_type": "markdown",
      "metadata": {
        "id": "PbHG7GyS3SHd"
      },
      "source": [
        "Now we can conduct one train-test split."
      ]
    },
    {
      "cell_type": "code",
      "metadata": {
        "id": "MHf1LJ51gg2R",
        "colab": {
          "base_uri": "https://localhost:8080/"
        },
        "outputId": "9f44652d-30a5-4918-9a53-215f96c55a84"
      },
      "source": [
        "from sklearn.model_selection import train_test_split \n",
        "train, test = train_test_split(housing, test_size=0.25, random_state=100)\n",
        "x_train = train.drop('MEDV', axis=1).values\n",
        "y_train = train['MEDV'].values\n",
        "x_test = test.drop('MEDV', axis=1).values\n",
        "y_test = test['MEDV'].values\n",
        "\n",
        "print(\"Training Data Size: \", len(train))\n",
        "print(\"Test Data Size: \", len(test))"
      ],
      "execution_count": 554,
      "outputs": [
        {
          "output_type": "stream",
          "text": [
            "Training Data Size:  379\n",
            "Test Data Size:  127\n"
          ],
          "name": "stdout"
        }
      ]
    },
    {
      "cell_type": "markdown",
      "metadata": {
        "id": "rxg6lfuX3f9Z"
      },
      "source": [
        "The training data can be used to fit a LinearRegression model as follows."
      ]
    },
    {
      "cell_type": "code",
      "metadata": {
        "id": "AyaEDXHOgg2R",
        "colab": {
          "base_uri": "https://localhost:8080/"
        },
        "outputId": "b4942a06-3b81-40a6-aab5-0c9c7878a3b1"
      },
      "source": [
        "linear_model = LinearRegression(fit_intercept=True)\n",
        "linear_model.fit(x_train, y_train)"
      ],
      "execution_count": 555,
      "outputs": [
        {
          "output_type": "execute_result",
          "data": {
            "text/plain": [
              "LinearRegression(copy_X=True, fit_intercept=True, n_jobs=None, normalize=False)"
            ]
          },
          "metadata": {
            "tags": []
          },
          "execution_count": 555
        }
      ]
    },
    {
      "cell_type": "code",
      "metadata": {
        "id": "_iehWHovgg2R",
        "colab": {
          "base_uri": "https://localhost:8080/"
        },
        "outputId": "1d295542-7349-4215-dda5-41f14d58df7d"
      },
      "source": [
        "from sklearn.metrics import mean_squared_error\n",
        "y_train_pred = linear_model.predict(x_train)\n",
        "mean_squared_error(y_train, y_train_pred)"
      ],
      "execution_count": 556,
      "outputs": [
        {
          "output_type": "execute_result",
          "data": {
            "text/plain": [
              "20.506781668028975"
            ]
          },
          "metadata": {
            "tags": []
          },
          "execution_count": 556
        }
      ]
    },
    {
      "cell_type": "code",
      "metadata": {
        "id": "qQukfIaigg2S",
        "colab": {
          "base_uri": "https://localhost:8080/"
        },
        "outputId": "76bf0f72-fc43-4f2e-8e38-fae78415cf64"
      },
      "source": [
        "y_test_pred = linear_model.predict(x_test)\n",
        "mean_squared_error(y_test, y_test_pred)"
      ],
      "execution_count": 557,
      "outputs": [
        {
          "output_type": "execute_result",
          "data": {
            "text/plain": [
              "27.173144173043553"
            ]
          },
          "metadata": {
            "tags": []
          },
          "execution_count": 557
        }
      ]
    },
    {
      "cell_type": "markdown",
      "metadata": {
        "id": "ZP9BUKZihHXq"
      },
      "source": [
        "# Part IV: Classification Big Question\n",
        "\n",
        "In this question, you are required to use the following data to fit a classification model and evaluate its performance using one train-test split as the multiple linear regression example above."
      ]
    },
    {
      "cell_type": "code",
      "metadata": {
        "id": "JbaZUWfxhHXq",
        "colab": {
          "base_uri": "https://localhost:8080/"
        },
        "outputId": "86a42d14-c5bb-470a-b60e-9420f2b325cf"
      },
      "source": [
        "data_dict = mldata.load_breast_cancer() #load the data\n",
        "print(data_dict['DESCR']) #Please carefully understand the data"
      ],
      "execution_count": 558,
      "outputs": [
        {
          "output_type": "stream",
          "text": [
            ".. _breast_cancer_dataset:\n",
            "\n",
            "Breast cancer wisconsin (diagnostic) dataset\n",
            "--------------------------------------------\n",
            "\n",
            "**Data Set Characteristics:**\n",
            "\n",
            "    :Number of Instances: 569\n",
            "\n",
            "    :Number of Attributes: 30 numeric, predictive attributes and the class\n",
            "\n",
            "    :Attribute Information:\n",
            "        - radius (mean of distances from center to points on the perimeter)\n",
            "        - texture (standard deviation of gray-scale values)\n",
            "        - perimeter\n",
            "        - area\n",
            "        - smoothness (local variation in radius lengths)\n",
            "        - compactness (perimeter^2 / area - 1.0)\n",
            "        - concavity (severity of concave portions of the contour)\n",
            "        - concave points (number of concave portions of the contour)\n",
            "        - symmetry \n",
            "        - fractal dimension (\"coastline approximation\" - 1)\n",
            "\n",
            "        The mean, standard error, and \"worst\" or largest (mean of the three\n",
            "        largest values) of these features were computed for each image,\n",
            "        resulting in 30 features.  For instance, field 3 is Mean Radius, field\n",
            "        13 is Radius SE, field 23 is Worst Radius.\n",
            "\n",
            "        - class:\n",
            "                - WDBC-Malignant\n",
            "                - WDBC-Benign\n",
            "\n",
            "    :Summary Statistics:\n",
            "\n",
            "    ===================================== ====== ======\n",
            "                                           Min    Max\n",
            "    ===================================== ====== ======\n",
            "    radius (mean):                        6.981  28.11\n",
            "    texture (mean):                       9.71   39.28\n",
            "    perimeter (mean):                     43.79  188.5\n",
            "    area (mean):                          143.5  2501.0\n",
            "    smoothness (mean):                    0.053  0.163\n",
            "    compactness (mean):                   0.019  0.345\n",
            "    concavity (mean):                     0.0    0.427\n",
            "    concave points (mean):                0.0    0.201\n",
            "    symmetry (mean):                      0.106  0.304\n",
            "    fractal dimension (mean):             0.05   0.097\n",
            "    radius (standard error):              0.112  2.873\n",
            "    texture (standard error):             0.36   4.885\n",
            "    perimeter (standard error):           0.757  21.98\n",
            "    area (standard error):                6.802  542.2\n",
            "    smoothness (standard error):          0.002  0.031\n",
            "    compactness (standard error):         0.002  0.135\n",
            "    concavity (standard error):           0.0    0.396\n",
            "    concave points (standard error):      0.0    0.053\n",
            "    symmetry (standard error):            0.008  0.079\n",
            "    fractal dimension (standard error):   0.001  0.03\n",
            "    radius (worst):                       7.93   36.04\n",
            "    texture (worst):                      12.02  49.54\n",
            "    perimeter (worst):                    50.41  251.2\n",
            "    area (worst):                         185.2  4254.0\n",
            "    smoothness (worst):                   0.071  0.223\n",
            "    compactness (worst):                  0.027  1.058\n",
            "    concavity (worst):                    0.0    1.252\n",
            "    concave points (worst):               0.0    0.291\n",
            "    symmetry (worst):                     0.156  0.664\n",
            "    fractal dimension (worst):            0.055  0.208\n",
            "    ===================================== ====== ======\n",
            "\n",
            "    :Missing Attribute Values: None\n",
            "\n",
            "    :Class Distribution: 212 - Malignant, 357 - Benign\n",
            "\n",
            "    :Creator:  Dr. William H. Wolberg, W. Nick Street, Olvi L. Mangasarian\n",
            "\n",
            "    :Donor: Nick Street\n",
            "\n",
            "    :Date: November, 1995\n",
            "\n",
            "This is a copy of UCI ML Breast Cancer Wisconsin (Diagnostic) datasets.\n",
            "https://goo.gl/U2Uwz2\n",
            "\n",
            "Features are computed from a digitized image of a fine needle\n",
            "aspirate (FNA) of a breast mass.  They describe\n",
            "characteristics of the cell nuclei present in the image.\n",
            "\n",
            "Separating plane described above was obtained using\n",
            "Multisurface Method-Tree (MSM-T) [K. P. Bennett, \"Decision Tree\n",
            "Construction Via Linear Programming.\" Proceedings of the 4th\n",
            "Midwest Artificial Intelligence and Cognitive Science Society,\n",
            "pp. 97-101, 1992], a classification method which uses linear\n",
            "programming to construct a decision tree.  Relevant features\n",
            "were selected using an exhaustive search in the space of 1-4\n",
            "features and 1-3 separating planes.\n",
            "\n",
            "The actual linear program used to obtain the separating plane\n",
            "in the 3-dimensional space is that described in:\n",
            "[K. P. Bennett and O. L. Mangasarian: \"Robust Linear\n",
            "Programming Discrimination of Two Linearly Inseparable Sets\",\n",
            "Optimization Methods and Software 1, 1992, 23-34].\n",
            "\n",
            "This database is also available through the UW CS ftp server:\n",
            "\n",
            "ftp ftp.cs.wisc.edu\n",
            "cd math-prog/cpo-dataset/machine-learn/WDBC/\n",
            "\n",
            ".. topic:: References\n",
            "\n",
            "   - W.N. Street, W.H. Wolberg and O.L. Mangasarian. Nuclear feature extraction \n",
            "     for breast tumor diagnosis. IS&T/SPIE 1993 International Symposium on \n",
            "     Electronic Imaging: Science and Technology, volume 1905, pages 861-870,\n",
            "     San Jose, CA, 1993.\n",
            "   - O.L. Mangasarian, W.N. Street and W.H. Wolberg. Breast cancer diagnosis and \n",
            "     prognosis via linear programming. Operations Research, 43(4), pages 570-577, \n",
            "     July-August 1995.\n",
            "   - W.H. Wolberg, W.N. Street, and O.L. Mangasarian. Machine learning techniques\n",
            "     to diagnose breast cancer from fine-needle aspirates. Cancer Letters 77 (1994) \n",
            "     163-171.\n"
          ],
          "name": "stdout"
        }
      ]
    },
    {
      "cell_type": "markdown",
      "metadata": {
        "id": "lnlMejjR7sVc"
      },
      "source": [
        "## Question 4.a (3 points)\n",
        "\n",
        "Translate the data_dict to dataframe, prepare for the target, and use head to show some examples"
      ]
    },
    {
      "cell_type": "code",
      "metadata": {
        "colab": {
          "base_uri": "https://localhost:8080/"
        },
        "id": "bFI-XEk4TjUM",
        "outputId": "0461e4f1-103d-47b5-9832-b466eb8e0d00"
      },
      "source": [
        "# look at the information of data, and I know that data, target, and target_names are useful informations.\n",
        "print(\"The keys in data: \", data_dict.keys())\n",
        "for key in data_dict.keys():\n",
        "  print(\"Length of data_dict[{}]: \".format(key), len(data_dict[key]))\n",
        "  print(\"First element in data_dict[{}]: \".format(key), data_dict[key][0])\n",
        "data_dict['target_names']"
      ],
      "execution_count": 559,
      "outputs": [
        {
          "output_type": "stream",
          "text": [
            "The keys in data:  dict_keys(['data', 'target', 'target_names', 'DESCR', 'feature_names', 'filename'])\n",
            "Length of data_dict[data]:  569\n",
            "First element in data_dict[data]:  [1.799e+01 1.038e+01 1.228e+02 1.001e+03 1.184e-01 2.776e-01 3.001e-01\n",
            " 1.471e-01 2.419e-01 7.871e-02 1.095e+00 9.053e-01 8.589e+00 1.534e+02\n",
            " 6.399e-03 4.904e-02 5.373e-02 1.587e-02 3.003e-02 6.193e-03 2.538e+01\n",
            " 1.733e+01 1.846e+02 2.019e+03 1.622e-01 6.656e-01 7.119e-01 2.654e-01\n",
            " 4.601e-01 1.189e-01]\n",
            "Length of data_dict[target]:  569\n",
            "First element in data_dict[target]:  0\n",
            "Length of data_dict[target_names]:  2\n",
            "First element in data_dict[target_names]:  malignant\n",
            "Length of data_dict[DESCR]:  5039\n",
            "First element in data_dict[DESCR]:  .\n",
            "Length of data_dict[feature_names]:  30\n",
            "First element in data_dict[feature_names]:  mean radius\n",
            "Length of data_dict[filename]:  78\n",
            "First element in data_dict[filename]:  /\n"
          ],
          "name": "stdout"
        },
        {
          "output_type": "execute_result",
          "data": {
            "text/plain": [
              "array(['malignant', 'benign'], dtype='<U9')"
            ]
          },
          "metadata": {
            "tags": []
          },
          "execution_count": 559
        }
      ]
    },
    {
      "cell_type": "code",
      "metadata": {
        "id": "gd_5VD1FhHXq",
        "colab": {
          "base_uri": "https://localhost:8080/",
          "height": 197
        },
        "outputId": "765653a0-d8b8-4bc7-a22a-4c37a0d7f4ad"
      },
      "source": [
        "# based on the above information, I decided to use data and target in data_dict to create the dataframe\n",
        "pd_cancer = pd.DataFrame()\n",
        "pd_cancer['data'] =  data_dict['data'].tolist()\n",
        "pd_cancer['target'] =  data_dict['target']\n",
        "pd_cancer['true_label'] = pd_cancer['target'].apply(lambda x: 'malignant' if x==0 else 'benign')\n",
        "pd_cancer.head()"
      ],
      "execution_count": 560,
      "outputs": [
        {
          "output_type": "execute_result",
          "data": {
            "text/html": [
              "<div>\n",
              "<style scoped>\n",
              "    .dataframe tbody tr th:only-of-type {\n",
              "        vertical-align: middle;\n",
              "    }\n",
              "\n",
              "    .dataframe tbody tr th {\n",
              "        vertical-align: top;\n",
              "    }\n",
              "\n",
              "    .dataframe thead th {\n",
              "        text-align: right;\n",
              "    }\n",
              "</style>\n",
              "<table border=\"1\" class=\"dataframe\">\n",
              "  <thead>\n",
              "    <tr style=\"text-align: right;\">\n",
              "      <th></th>\n",
              "      <th>data</th>\n",
              "      <th>target</th>\n",
              "      <th>true_label</th>\n",
              "    </tr>\n",
              "  </thead>\n",
              "  <tbody>\n",
              "    <tr>\n",
              "      <th>0</th>\n",
              "      <td>[17.99, 10.38, 122.8, 1001.0, 0.1184, 0.2776, ...</td>\n",
              "      <td>0</td>\n",
              "      <td>malignant</td>\n",
              "    </tr>\n",
              "    <tr>\n",
              "      <th>1</th>\n",
              "      <td>[20.57, 17.77, 132.9, 1326.0, 0.08474, 0.07864...</td>\n",
              "      <td>0</td>\n",
              "      <td>malignant</td>\n",
              "    </tr>\n",
              "    <tr>\n",
              "      <th>2</th>\n",
              "      <td>[19.69, 21.25, 130.0, 1203.0, 0.1096, 0.1599, ...</td>\n",
              "      <td>0</td>\n",
              "      <td>malignant</td>\n",
              "    </tr>\n",
              "    <tr>\n",
              "      <th>3</th>\n",
              "      <td>[11.42, 20.38, 77.58, 386.1, 0.1425, 0.2839, 0...</td>\n",
              "      <td>0</td>\n",
              "      <td>malignant</td>\n",
              "    </tr>\n",
              "    <tr>\n",
              "      <th>4</th>\n",
              "      <td>[20.29, 14.34, 135.1, 1297.0, 0.1003, 0.1328, ...</td>\n",
              "      <td>0</td>\n",
              "      <td>malignant</td>\n",
              "    </tr>\n",
              "  </tbody>\n",
              "</table>\n",
              "</div>"
            ],
            "text/plain": [
              "                                                data  target true_label\n",
              "0  [17.99, 10.38, 122.8, 1001.0, 0.1184, 0.2776, ...       0  malignant\n",
              "1  [20.57, 17.77, 132.9, 1326.0, 0.08474, 0.07864...       0  malignant\n",
              "2  [19.69, 21.25, 130.0, 1203.0, 0.1096, 0.1599, ...       0  malignant\n",
              "3  [11.42, 20.38, 77.58, 386.1, 0.1425, 0.2839, 0...       0  malignant\n",
              "4  [20.29, 14.34, 135.1, 1297.0, 0.1003, 0.1328, ...       0  malignant"
            ]
          },
          "metadata": {
            "tags": []
          },
          "execution_count": 560
        }
      ]
    },
    {
      "cell_type": "markdown",
      "metadata": {
        "id": "a2FICMQd8e8S"
      },
      "source": [
        "## Question 4.b (5 points)\n",
        "\n",
        "Obtain one train-test split and train a LogisticRegression model (**this is a classification model**) using the training data."
      ]
    },
    {
      "cell_type": "code",
      "metadata": {
        "id": "cpYz22ZfhHXr",
        "colab": {
          "base_uri": "https://localhost:8080/"
        },
        "outputId": "22f451f1-a486-4cad-fc88-08bc794f9462"
      },
      "source": [
        "# we split the data into two types: malignant and benigh\n",
        "# the data is 'data' column, and label is 'target' column in the dataframe defined above\n",
        "from sklearn.model_selection import train_test_split \n",
        "from sklearn.preprocessing import StandardScaler\n",
        "from sklearn.linear_model import LogisticRegression\n",
        "train_data, test_data, train_label, test_label = train_test_split(pd_cancer['data'].tolist(), pd_cancer['target'].tolist(), test_size = 0.25, random_state=100)\n",
        "print(\"Training Data Size: \", len(train_data))\n",
        "print(\"Test Data Size: \", len(test_data))\n"
      ],
      "execution_count": 561,
      "outputs": [
        {
          "output_type": "stream",
          "text": [
            "Training Data Size:  426\n",
            "Test Data Size:  143\n"
          ],
          "name": "stdout"
        }
      ]
    },
    {
      "cell_type": "code",
      "metadata": {
        "id": "tnx2uSUyZCBd"
      },
      "source": [
        "# normalize the train data and test data \n",
        "sc = StandardScaler()\n",
        "sc.fit(pd_cancer['data'].tolist())\n",
        "train_data_std = sc.transform(train_data)\n",
        "test_data_std = sc.transform(test_data)"
      ],
      "execution_count": 562,
      "outputs": []
    },
    {
      "cell_type": "code",
      "metadata": {
        "id": "vlCTKmYgZ0rY"
      },
      "source": [
        "# train a LogisticRegression model using the normalized train data\n",
        "clf = LogisticRegression().fit(train_data_std, train_label)"
      ],
      "execution_count": 563,
      "outputs": []
    },
    {
      "cell_type": "markdown",
      "metadata": {
        "id": "TDndsYrY9Dgs"
      },
      "source": [
        "## Question 4.c (5 points)\n",
        "\n",
        "Evaluate and print the accuracy (**accuracy in classification is different from error in regression, please study how**) of the trained model for both the training data and test data."
      ]
    },
    {
      "cell_type": "code",
      "metadata": {
        "id": "qgyxt36v6lqi",
        "colab": {
          "base_uri": "https://localhost:8080/"
        },
        "outputId": "daf5920f-a788-4bda-8afb-216e6f47551c"
      },
      "source": [
        "# the accuracy of the train data and test data\n",
        "train_accuracy = round(clf.score(train_data_std, train_label), 5)\n",
        "test_accuracy = round(clf.score(test_data_std, test_label), 5)\n",
        "print(\"accuracy of the train data: \", \"{:.3%}\".format(train_accuracy))\n",
        "print(\"accuracy of the test data: \", \"{:.3%}\".format(test_accuracy))"
      ],
      "execution_count": 564,
      "outputs": [
        {
          "output_type": "stream",
          "text": [
            "accuracy of the train data:  99.296%\n",
            "accuracy of the test data:  96.503%\n"
          ],
          "name": "stdout"
        }
      ]
    },
    {
      "cell_type": "markdown",
      "metadata": {
        "id": "mAKWV4ul-Vzk"
      },
      "source": [
        "**Before you submit, please restart, run all, and carefully check to have a good submission.**"
      ]
    }
  ]
}
