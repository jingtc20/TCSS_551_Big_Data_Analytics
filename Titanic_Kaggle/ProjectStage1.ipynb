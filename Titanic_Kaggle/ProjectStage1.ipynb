{
  "nbformat": 4,
  "nbformat_minor": 0,
  "metadata": {
    "colab": {
      "name": "ProjectStage1.ipynb",
      "provenance": [],
      "collapsed_sections": []
    },
    "kernelspec": {
      "name": "python3",
      "display_name": "Python 3"
    },
    "language_info": {
      "name": "python"
    }
  },
  "cells": [
    {
      "cell_type": "markdown",
      "metadata": {
        "id": "heAaj5JwUtpL"
      },
      "source": [
        "\n",
        "\n",
        "```\n",
        "Name: Jing Tian [1 point]\n",
        "```\n",
        "\n"
      ]
    },
    {
      "cell_type": "markdown",
      "metadata": {
        "id": "WUE61hgvVEGx"
      },
      "source": [
        "# Topic: House Prices (Regression)"
      ]
    },
    {
      "cell_type": "markdown",
      "metadata": {
        "id": "iPw0i6bqVlaN"
      },
      "source": [
        "A. Problem Introduction: [5 points]\n",
        "1. Problem formulation: \n",
        "2. Data population: "
      ]
    },
    {
      "cell_type": "markdown",
      "metadata": {
        "id": "AvsCktAioIw0"
      },
      "source": [
        "Answer:\n",
        "1. The problem is to study the passengers' lives of the Titanic shipwreck on April 15, 1912. Given some information of 891 passengers and the result of whether they survived or not, we need to predict whether the other 418 passengers on board survived. \n",
        "2. Data population: 891 passengers of the Titanic shipwreck whose life status has been known, and 418 passengers that we don't know if they survived in the Titanic shipwreck\n"
      ]
    },
    {
      "cell_type": "markdown",
      "metadata": {
        "id": "-O09EqAEWRzK"
      },
      "source": [
        "B. Data [38 points]\n",
        "1. Kaggle account: \n",
        "2. Show the data\n",
        "3. Data Wrangling\n",
        "4. Is the data obtained representative for the problem according to your data population? What kind of assumptions are needed that the analysis using the current data can solve the problem?\n",
        "5. Guess what kind of sampling method maybe used during the data collection and why do you guess so? \n",
        "\n"
      ]
    },
    {
      "cell_type": "markdown",
      "metadata": {
        "id": "Z1tmYSxloiSK"
      },
      "source": [
        "Answer:\n",
        "1. jingtc20\n",
        "2. See below\n",
        "3. See below\n",
        "4. a. After the data analysis, I think the data is representative for the problem, since the scope of the age, SibSp, Parch is bigger enough and the data distribution is reasonable, such as Pclass and Sex.\n",
        "b. Assumptions: All the information in the data is real and correct.\n",
        "5. I guess stratified sampling was used during the data collection, since we have three classes in the train/test data: first, second and third class."
      ]
    },
    {
      "cell_type": "markdown",
      "metadata": {
        "id": "kyaYXGAhy-b1"
      },
      "source": [
        "2. Show the data"
      ]
    },
    {
      "cell_type": "code",
      "metadata": {
        "id": "PgBKYmeQUtJr"
      },
      "source": [
        "import pandas as pd\n",
        "import numpy as np\n",
        "import matplotlib.pyplot as plt"
      ],
      "execution_count": 492,
      "outputs": []
    },
    {
      "cell_type": "code",
      "metadata": {
        "id": "CLK3RLYnndmL",
        "colab": {
          "base_uri": "https://localhost:8080/",
          "height": 265
        },
        "outputId": "ffdea4c9-79cf-44fb-afc0-af2e17ad9878"
      },
      "source": [
        "# show the shape of train data and several lines\n",
        "df_train = pd.read_csv('/content/train.csv')\n",
        "print('Shape of train data', df_train.shape)\n",
        "df_train.head()"
      ],
      "execution_count": 493,
      "outputs": [
        {
          "output_type": "stream",
          "text": [
            "Shape of train data (891, 12)\n"
          ],
          "name": "stdout"
        },
        {
          "output_type": "execute_result",
          "data": {
            "text/html": [
              "<div>\n",
              "<style scoped>\n",
              "    .dataframe tbody tr th:only-of-type {\n",
              "        vertical-align: middle;\n",
              "    }\n",
              "\n",
              "    .dataframe tbody tr th {\n",
              "        vertical-align: top;\n",
              "    }\n",
              "\n",
              "    .dataframe thead th {\n",
              "        text-align: right;\n",
              "    }\n",
              "</style>\n",
              "<table border=\"1\" class=\"dataframe\">\n",
              "  <thead>\n",
              "    <tr style=\"text-align: right;\">\n",
              "      <th></th>\n",
              "      <th>PassengerId</th>\n",
              "      <th>Survived</th>\n",
              "      <th>Pclass</th>\n",
              "      <th>Name</th>\n",
              "      <th>Sex</th>\n",
              "      <th>Age</th>\n",
              "      <th>SibSp</th>\n",
              "      <th>Parch</th>\n",
              "      <th>Ticket</th>\n",
              "      <th>Fare</th>\n",
              "      <th>Cabin</th>\n",
              "      <th>Embarked</th>\n",
              "    </tr>\n",
              "  </thead>\n",
              "  <tbody>\n",
              "    <tr>\n",
              "      <th>0</th>\n",
              "      <td>1</td>\n",
              "      <td>0</td>\n",
              "      <td>3</td>\n",
              "      <td>Braund, Mr. Owen Harris</td>\n",
              "      <td>male</td>\n",
              "      <td>22.0</td>\n",
              "      <td>1</td>\n",
              "      <td>0</td>\n",
              "      <td>A/5 21171</td>\n",
              "      <td>7.2500</td>\n",
              "      <td>NaN</td>\n",
              "      <td>S</td>\n",
              "    </tr>\n",
              "    <tr>\n",
              "      <th>1</th>\n",
              "      <td>2</td>\n",
              "      <td>1</td>\n",
              "      <td>1</td>\n",
              "      <td>Cumings, Mrs. John Bradley (Florence Briggs Th...</td>\n",
              "      <td>female</td>\n",
              "      <td>38.0</td>\n",
              "      <td>1</td>\n",
              "      <td>0</td>\n",
              "      <td>PC 17599</td>\n",
              "      <td>71.2833</td>\n",
              "      <td>C85</td>\n",
              "      <td>C</td>\n",
              "    </tr>\n",
              "    <tr>\n",
              "      <th>2</th>\n",
              "      <td>3</td>\n",
              "      <td>1</td>\n",
              "      <td>3</td>\n",
              "      <td>Heikkinen, Miss. Laina</td>\n",
              "      <td>female</td>\n",
              "      <td>26.0</td>\n",
              "      <td>0</td>\n",
              "      <td>0</td>\n",
              "      <td>STON/O2. 3101282</td>\n",
              "      <td>7.9250</td>\n",
              "      <td>NaN</td>\n",
              "      <td>S</td>\n",
              "    </tr>\n",
              "    <tr>\n",
              "      <th>3</th>\n",
              "      <td>4</td>\n",
              "      <td>1</td>\n",
              "      <td>1</td>\n",
              "      <td>Futrelle, Mrs. Jacques Heath (Lily May Peel)</td>\n",
              "      <td>female</td>\n",
              "      <td>35.0</td>\n",
              "      <td>1</td>\n",
              "      <td>0</td>\n",
              "      <td>113803</td>\n",
              "      <td>53.1000</td>\n",
              "      <td>C123</td>\n",
              "      <td>S</td>\n",
              "    </tr>\n",
              "    <tr>\n",
              "      <th>4</th>\n",
              "      <td>5</td>\n",
              "      <td>0</td>\n",
              "      <td>3</td>\n",
              "      <td>Allen, Mr. William Henry</td>\n",
              "      <td>male</td>\n",
              "      <td>35.0</td>\n",
              "      <td>0</td>\n",
              "      <td>0</td>\n",
              "      <td>373450</td>\n",
              "      <td>8.0500</td>\n",
              "      <td>NaN</td>\n",
              "      <td>S</td>\n",
              "    </tr>\n",
              "  </tbody>\n",
              "</table>\n",
              "</div>"
            ],
            "text/plain": [
              "   PassengerId  Survived  Pclass  ...     Fare Cabin  Embarked\n",
              "0            1         0       3  ...   7.2500   NaN         S\n",
              "1            2         1       1  ...  71.2833   C85         C\n",
              "2            3         1       3  ...   7.9250   NaN         S\n",
              "3            4         1       1  ...  53.1000  C123         S\n",
              "4            5         0       3  ...   8.0500   NaN         S\n",
              "\n",
              "[5 rows x 12 columns]"
            ]
          },
          "metadata": {
            "tags": []
          },
          "execution_count": 493
        }
      ]
    },
    {
      "cell_type": "code",
      "metadata": {
        "colab": {
          "base_uri": "https://localhost:8080/",
          "height": 47
        },
        "id": "H09rdkd-5wAU",
        "outputId": "7d6dbb6a-e413-4923-e478-d57d177d1283"
      },
      "source": [
        "# check if the train data has duplicates\n",
        "df_train[df_train.duplicated()]"
      ],
      "execution_count": 494,
      "outputs": [
        {
          "output_type": "execute_result",
          "data": {
            "text/html": [
              "<div>\n",
              "<style scoped>\n",
              "    .dataframe tbody tr th:only-of-type {\n",
              "        vertical-align: middle;\n",
              "    }\n",
              "\n",
              "    .dataframe tbody tr th {\n",
              "        vertical-align: top;\n",
              "    }\n",
              "\n",
              "    .dataframe thead th {\n",
              "        text-align: right;\n",
              "    }\n",
              "</style>\n",
              "<table border=\"1\" class=\"dataframe\">\n",
              "  <thead>\n",
              "    <tr style=\"text-align: right;\">\n",
              "      <th></th>\n",
              "      <th>PassengerId</th>\n",
              "      <th>Survived</th>\n",
              "      <th>Pclass</th>\n",
              "      <th>Name</th>\n",
              "      <th>Sex</th>\n",
              "      <th>Age</th>\n",
              "      <th>SibSp</th>\n",
              "      <th>Parch</th>\n",
              "      <th>Ticket</th>\n",
              "      <th>Fare</th>\n",
              "      <th>Cabin</th>\n",
              "      <th>Embarked</th>\n",
              "    </tr>\n",
              "  </thead>\n",
              "  <tbody>\n",
              "  </tbody>\n",
              "</table>\n",
              "</div>"
            ],
            "text/plain": [
              "Empty DataFrame\n",
              "Columns: [PassengerId, Survived, Pclass, Name, Sex, Age, SibSp, Parch, Ticket, Fare, Cabin, Embarked]\n",
              "Index: []"
            ]
          },
          "metadata": {
            "tags": []
          },
          "execution_count": 494
        }
      ]
    },
    {
      "cell_type": "code",
      "metadata": {
        "colab": {
          "base_uri": "https://localhost:8080/"
        },
        "id": "Y6FG81eB5K6l",
        "outputId": "5c069a5e-b2d7-4af1-c32d-768c5bbb89e9"
      },
      "source": [
        "# show the information of the train data\n",
        "df_train.info()"
      ],
      "execution_count": 495,
      "outputs": [
        {
          "output_type": "stream",
          "text": [
            "<class 'pandas.core.frame.DataFrame'>\n",
            "RangeIndex: 891 entries, 0 to 890\n",
            "Data columns (total 12 columns):\n",
            " #   Column       Non-Null Count  Dtype  \n",
            "---  ------       --------------  -----  \n",
            " 0   PassengerId  891 non-null    int64  \n",
            " 1   Survived     891 non-null    int64  \n",
            " 2   Pclass       891 non-null    int64  \n",
            " 3   Name         891 non-null    object \n",
            " 4   Sex          891 non-null    object \n",
            " 5   Age          714 non-null    float64\n",
            " 6   SibSp        891 non-null    int64  \n",
            " 7   Parch        891 non-null    int64  \n",
            " 8   Ticket       891 non-null    object \n",
            " 9   Fare         891 non-null    float64\n",
            " 10  Cabin        204 non-null    object \n",
            " 11  Embarked     889 non-null    object \n",
            "dtypes: float64(2), int64(5), object(5)\n",
            "memory usage: 83.7+ KB\n"
          ],
          "name": "stdout"
        }
      ]
    },
    {
      "cell_type": "code",
      "metadata": {
        "colab": {
          "base_uri": "https://localhost:8080/",
          "height": 215
        },
        "id": "dxx9yIy75MmR",
        "outputId": "523723ff-3c64-4390-bae4-fc1d7e186652"
      },
      "source": [
        "# show the shape of test data and several lines\n",
        "df_test = pd.read_csv('/content/test.csv')\n",
        "print('Shape of test data', df_test.shape)\n",
        "df_test.head()"
      ],
      "execution_count": 496,
      "outputs": [
        {
          "output_type": "stream",
          "text": [
            "Shape of test data (418, 11)\n"
          ],
          "name": "stdout"
        },
        {
          "output_type": "execute_result",
          "data": {
            "text/html": [
              "<div>\n",
              "<style scoped>\n",
              "    .dataframe tbody tr th:only-of-type {\n",
              "        vertical-align: middle;\n",
              "    }\n",
              "\n",
              "    .dataframe tbody tr th {\n",
              "        vertical-align: top;\n",
              "    }\n",
              "\n",
              "    .dataframe thead th {\n",
              "        text-align: right;\n",
              "    }\n",
              "</style>\n",
              "<table border=\"1\" class=\"dataframe\">\n",
              "  <thead>\n",
              "    <tr style=\"text-align: right;\">\n",
              "      <th></th>\n",
              "      <th>PassengerId</th>\n",
              "      <th>Pclass</th>\n",
              "      <th>Name</th>\n",
              "      <th>Sex</th>\n",
              "      <th>Age</th>\n",
              "      <th>SibSp</th>\n",
              "      <th>Parch</th>\n",
              "      <th>Ticket</th>\n",
              "      <th>Fare</th>\n",
              "      <th>Cabin</th>\n",
              "      <th>Embarked</th>\n",
              "    </tr>\n",
              "  </thead>\n",
              "  <tbody>\n",
              "    <tr>\n",
              "      <th>0</th>\n",
              "      <td>892</td>\n",
              "      <td>3</td>\n",
              "      <td>Kelly, Mr. James</td>\n",
              "      <td>male</td>\n",
              "      <td>34.5</td>\n",
              "      <td>0</td>\n",
              "      <td>0</td>\n",
              "      <td>330911</td>\n",
              "      <td>7.8292</td>\n",
              "      <td>NaN</td>\n",
              "      <td>Q</td>\n",
              "    </tr>\n",
              "    <tr>\n",
              "      <th>1</th>\n",
              "      <td>893</td>\n",
              "      <td>3</td>\n",
              "      <td>Wilkes, Mrs. James (Ellen Needs)</td>\n",
              "      <td>female</td>\n",
              "      <td>47.0</td>\n",
              "      <td>1</td>\n",
              "      <td>0</td>\n",
              "      <td>363272</td>\n",
              "      <td>7.0000</td>\n",
              "      <td>NaN</td>\n",
              "      <td>S</td>\n",
              "    </tr>\n",
              "    <tr>\n",
              "      <th>2</th>\n",
              "      <td>894</td>\n",
              "      <td>2</td>\n",
              "      <td>Myles, Mr. Thomas Francis</td>\n",
              "      <td>male</td>\n",
              "      <td>62.0</td>\n",
              "      <td>0</td>\n",
              "      <td>0</td>\n",
              "      <td>240276</td>\n",
              "      <td>9.6875</td>\n",
              "      <td>NaN</td>\n",
              "      <td>Q</td>\n",
              "    </tr>\n",
              "    <tr>\n",
              "      <th>3</th>\n",
              "      <td>895</td>\n",
              "      <td>3</td>\n",
              "      <td>Wirz, Mr. Albert</td>\n",
              "      <td>male</td>\n",
              "      <td>27.0</td>\n",
              "      <td>0</td>\n",
              "      <td>0</td>\n",
              "      <td>315154</td>\n",
              "      <td>8.6625</td>\n",
              "      <td>NaN</td>\n",
              "      <td>S</td>\n",
              "    </tr>\n",
              "    <tr>\n",
              "      <th>4</th>\n",
              "      <td>896</td>\n",
              "      <td>3</td>\n",
              "      <td>Hirvonen, Mrs. Alexander (Helga E Lindqvist)</td>\n",
              "      <td>female</td>\n",
              "      <td>22.0</td>\n",
              "      <td>1</td>\n",
              "      <td>1</td>\n",
              "      <td>3101298</td>\n",
              "      <td>12.2875</td>\n",
              "      <td>NaN</td>\n",
              "      <td>S</td>\n",
              "    </tr>\n",
              "  </tbody>\n",
              "</table>\n",
              "</div>"
            ],
            "text/plain": [
              "   PassengerId  Pclass  ... Cabin Embarked\n",
              "0          892       3  ...   NaN        Q\n",
              "1          893       3  ...   NaN        S\n",
              "2          894       2  ...   NaN        Q\n",
              "3          895       3  ...   NaN        S\n",
              "4          896       3  ...   NaN        S\n",
              "\n",
              "[5 rows x 11 columns]"
            ]
          },
          "metadata": {
            "tags": []
          },
          "execution_count": 496
        }
      ]
    },
    {
      "cell_type": "code",
      "metadata": {
        "colab": {
          "base_uri": "https://localhost:8080/",
          "height": 47
        },
        "id": "MxbegeKo6QbC",
        "outputId": "0c26a597-ca27-4985-85b1-6ac6834e3020"
      },
      "source": [
        "# check if the train data has duplicates\n",
        "df_test[df_test.duplicated()]"
      ],
      "execution_count": 497,
      "outputs": [
        {
          "output_type": "execute_result",
          "data": {
            "text/html": [
              "<div>\n",
              "<style scoped>\n",
              "    .dataframe tbody tr th:only-of-type {\n",
              "        vertical-align: middle;\n",
              "    }\n",
              "\n",
              "    .dataframe tbody tr th {\n",
              "        vertical-align: top;\n",
              "    }\n",
              "\n",
              "    .dataframe thead th {\n",
              "        text-align: right;\n",
              "    }\n",
              "</style>\n",
              "<table border=\"1\" class=\"dataframe\">\n",
              "  <thead>\n",
              "    <tr style=\"text-align: right;\">\n",
              "      <th></th>\n",
              "      <th>PassengerId</th>\n",
              "      <th>Pclass</th>\n",
              "      <th>Name</th>\n",
              "      <th>Sex</th>\n",
              "      <th>Age</th>\n",
              "      <th>SibSp</th>\n",
              "      <th>Parch</th>\n",
              "      <th>Ticket</th>\n",
              "      <th>Fare</th>\n",
              "      <th>Cabin</th>\n",
              "      <th>Embarked</th>\n",
              "    </tr>\n",
              "  </thead>\n",
              "  <tbody>\n",
              "  </tbody>\n",
              "</table>\n",
              "</div>"
            ],
            "text/plain": [
              "Empty DataFrame\n",
              "Columns: [PassengerId, Pclass, Name, Sex, Age, SibSp, Parch, Ticket, Fare, Cabin, Embarked]\n",
              "Index: []"
            ]
          },
          "metadata": {
            "tags": []
          },
          "execution_count": 497
        }
      ]
    },
    {
      "cell_type": "code",
      "metadata": {
        "colab": {
          "base_uri": "https://localhost:8080/"
        },
        "id": "PVk7k1Kj5Mts",
        "outputId": "cee98297-91cc-44f1-ec96-7f19c1f8f171"
      },
      "source": [
        "# show the information of the test data\n",
        "df_test.info()"
      ],
      "execution_count": 498,
      "outputs": [
        {
          "output_type": "stream",
          "text": [
            "<class 'pandas.core.frame.DataFrame'>\n",
            "RangeIndex: 418 entries, 0 to 417\n",
            "Data columns (total 11 columns):\n",
            " #   Column       Non-Null Count  Dtype  \n",
            "---  ------       --------------  -----  \n",
            " 0   PassengerId  418 non-null    int64  \n",
            " 1   Pclass       418 non-null    int64  \n",
            " 2   Name         418 non-null    object \n",
            " 3   Sex          418 non-null    object \n",
            " 4   Age          332 non-null    float64\n",
            " 5   SibSp        418 non-null    int64  \n",
            " 6   Parch        418 non-null    int64  \n",
            " 7   Ticket       418 non-null    object \n",
            " 8   Fare         417 non-null    float64\n",
            " 9   Cabin        91 non-null     object \n",
            " 10  Embarked     418 non-null    object \n",
            "dtypes: float64(2), int64(4), object(5)\n",
            "memory usage: 36.0+ KB\n"
          ],
          "name": "stdout"
        }
      ]
    },
    {
      "cell_type": "markdown",
      "metadata": {
        "id": "K0tHITvS6mqt"
      },
      "source": [
        "3. Data Wrangling"
      ]
    },
    {
      "cell_type": "markdown",
      "metadata": {
        "id": "UhVzX3yP-A_A"
      },
      "source": [
        "3.1 Structure: \n",
        "The train dataset and test dataset are all tabular data. For train dataset, we have 891 rows and 12 columns. For test dataset, we have 418 rows and 11 columns. The column names in test data and train data are same except that train data has “ground truth” for each passenger which is called \"Survived\" and test data doesn't."
      ]
    },
    {
      "cell_type": "code",
      "metadata": {
        "colab": {
          "base_uri": "https://localhost:8080/"
        },
        "id": "fetJ8nG76oQM",
        "outputId": "41dd00fd-b727-49d2-f573-6a12bc106551"
      },
      "source": [
        "print('Shape of train data', df_train.shape)\n",
        "print('Shape of test data', df_test.shape)"
      ],
      "execution_count": 499,
      "outputs": [
        {
          "output_type": "stream",
          "text": [
            "Shape of train data (891, 12)\n",
            "Shape of test data (418, 11)\n"
          ],
          "name": "stdout"
        }
      ]
    },
    {
      "cell_type": "code",
      "metadata": {
        "colab": {
          "base_uri": "https://localhost:8080/"
        },
        "id": "goUG9Cjl6oSe",
        "outputId": "b35d8cbc-52af-43f4-8bd4-4080c358a588"
      },
      "source": [
        "print('Shape of train data', df_train.columns)\n",
        "print('Shape of train data', df_test.columns)"
      ],
      "execution_count": 500,
      "outputs": [
        {
          "output_type": "stream",
          "text": [
            "Shape of train data Index(['PassengerId', 'Survived', 'Pclass', 'Name', 'Sex', 'Age', 'SibSp',\n",
            "       'Parch', 'Ticket', 'Fare', 'Cabin', 'Embarked'],\n",
            "      dtype='object')\n",
            "Shape of train data Index(['PassengerId', 'Pclass', 'Name', 'Sex', 'Age', 'SibSp', 'Parch',\n",
            "       'Ticket', 'Fare', 'Cabin', 'Embarked'],\n",
            "      dtype='object')\n"
          ],
          "name": "stdout"
        }
      ]
    },
    {
      "cell_type": "markdown",
      "metadata": {
        "id": "uHwnd_MjQ-XP"
      },
      "source": [
        "3.2 Granularity:\n",
        "Either in the train data or test data, each record represents a single passenger in the Titanic shipwreck. We can further analyze the data by 'Pclass', 'Survived', or 'Sex'."
      ]
    },
    {
      "cell_type": "code",
      "metadata": {
        "colab": {
          "base_uri": "https://localhost:8080/",
          "height": 137
        },
        "id": "K2oFu7IRQ7Ut",
        "outputId": "1b986ecc-6438-41e2-e68d-bbc7bd0cfc6d"
      },
      "source": [
        "df_train_pclass = df_train.groupby('Pclass').size().reset_index(name='Num')\n",
        "df_train_pclass['ticket_class'] = ['first', 'second', 'third']\n",
        "df_train_pclass"
      ],
      "execution_count": 501,
      "outputs": [
        {
          "output_type": "execute_result",
          "data": {
            "text/html": [
              "<div>\n",
              "<style scoped>\n",
              "    .dataframe tbody tr th:only-of-type {\n",
              "        vertical-align: middle;\n",
              "    }\n",
              "\n",
              "    .dataframe tbody tr th {\n",
              "        vertical-align: top;\n",
              "    }\n",
              "\n",
              "    .dataframe thead th {\n",
              "        text-align: right;\n",
              "    }\n",
              "</style>\n",
              "<table border=\"1\" class=\"dataframe\">\n",
              "  <thead>\n",
              "    <tr style=\"text-align: right;\">\n",
              "      <th></th>\n",
              "      <th>Pclass</th>\n",
              "      <th>Num</th>\n",
              "      <th>ticket_class</th>\n",
              "    </tr>\n",
              "  </thead>\n",
              "  <tbody>\n",
              "    <tr>\n",
              "      <th>0</th>\n",
              "      <td>1</td>\n",
              "      <td>216</td>\n",
              "      <td>first</td>\n",
              "    </tr>\n",
              "    <tr>\n",
              "      <th>1</th>\n",
              "      <td>2</td>\n",
              "      <td>184</td>\n",
              "      <td>second</td>\n",
              "    </tr>\n",
              "    <tr>\n",
              "      <th>2</th>\n",
              "      <td>3</td>\n",
              "      <td>491</td>\n",
              "      <td>third</td>\n",
              "    </tr>\n",
              "  </tbody>\n",
              "</table>\n",
              "</div>"
            ],
            "text/plain": [
              "   Pclass  Num ticket_class\n",
              "0       1  216        first\n",
              "1       2  184       second\n",
              "2       3  491        third"
            ]
          },
          "metadata": {
            "tags": []
          },
          "execution_count": 501
        }
      ]
    },
    {
      "cell_type": "code",
      "metadata": {
        "colab": {
          "base_uri": "https://localhost:8080/",
          "height": 107
        },
        "id": "I2YpwsiV6oU7",
        "outputId": "549725d1-2c88-42c6-ae2a-df01dfc582b7"
      },
      "source": [
        "df_train_gender = df_train.groupby('Sex').size().reset_index(name='Num')\n",
        "df_train_gender"
      ],
      "execution_count": 502,
      "outputs": [
        {
          "output_type": "execute_result",
          "data": {
            "text/html": [
              "<div>\n",
              "<style scoped>\n",
              "    .dataframe tbody tr th:only-of-type {\n",
              "        vertical-align: middle;\n",
              "    }\n",
              "\n",
              "    .dataframe tbody tr th {\n",
              "        vertical-align: top;\n",
              "    }\n",
              "\n",
              "    .dataframe thead th {\n",
              "        text-align: right;\n",
              "    }\n",
              "</style>\n",
              "<table border=\"1\" class=\"dataframe\">\n",
              "  <thead>\n",
              "    <tr style=\"text-align: right;\">\n",
              "      <th></th>\n",
              "      <th>Sex</th>\n",
              "      <th>Num</th>\n",
              "    </tr>\n",
              "  </thead>\n",
              "  <tbody>\n",
              "    <tr>\n",
              "      <th>0</th>\n",
              "      <td>female</td>\n",
              "      <td>314</td>\n",
              "    </tr>\n",
              "    <tr>\n",
              "      <th>1</th>\n",
              "      <td>male</td>\n",
              "      <td>577</td>\n",
              "    </tr>\n",
              "  </tbody>\n",
              "</table>\n",
              "</div>"
            ],
            "text/plain": [
              "      Sex  Num\n",
              "0  female  314\n",
              "1    male  577"
            ]
          },
          "metadata": {
            "tags": []
          },
          "execution_count": 502
        }
      ]
    },
    {
      "cell_type": "code",
      "metadata": {
        "colab": {
          "base_uri": "https://localhost:8080/",
          "height": 107
        },
        "id": "UG5hxeLA6oW_",
        "outputId": "81657ec7-e36a-4b0f-e410-d804f3b027f8"
      },
      "source": [
        "df_train_survived = df_train.groupby('Survived').size().reset_index(name='Num')\n",
        "df_train_survived['result'] = ['dead', 'alive']\n",
        "df_train_survived"
      ],
      "execution_count": 503,
      "outputs": [
        {
          "output_type": "execute_result",
          "data": {
            "text/html": [
              "<div>\n",
              "<style scoped>\n",
              "    .dataframe tbody tr th:only-of-type {\n",
              "        vertical-align: middle;\n",
              "    }\n",
              "\n",
              "    .dataframe tbody tr th {\n",
              "        vertical-align: top;\n",
              "    }\n",
              "\n",
              "    .dataframe thead th {\n",
              "        text-align: right;\n",
              "    }\n",
              "</style>\n",
              "<table border=\"1\" class=\"dataframe\">\n",
              "  <thead>\n",
              "    <tr style=\"text-align: right;\">\n",
              "      <th></th>\n",
              "      <th>Survived</th>\n",
              "      <th>Num</th>\n",
              "      <th>result</th>\n",
              "    </tr>\n",
              "  </thead>\n",
              "  <tbody>\n",
              "    <tr>\n",
              "      <th>0</th>\n",
              "      <td>0</td>\n",
              "      <td>549</td>\n",
              "      <td>dead</td>\n",
              "    </tr>\n",
              "    <tr>\n",
              "      <th>1</th>\n",
              "      <td>1</td>\n",
              "      <td>342</td>\n",
              "      <td>alive</td>\n",
              "    </tr>\n",
              "  </tbody>\n",
              "</table>\n",
              "</div>"
            ],
            "text/plain": [
              "   Survived  Num result\n",
              "0         0  549   dead\n",
              "1         1  342  alive"
            ]
          },
          "metadata": {
            "tags": []
          },
          "execution_count": 503
        }
      ]
    },
    {
      "cell_type": "code",
      "metadata": {
        "colab": {
          "base_uri": "https://localhost:8080/"
        },
        "id": "_cHrr_mTVhvK",
        "outputId": "fb470cf6-1180-4d1d-c433-042275c358ac"
      },
      "source": [
        "df_pclass['Num'].tolist()"
      ],
      "execution_count": 504,
      "outputs": [
        {
          "output_type": "execute_result",
          "data": {
            "text/plain": [
              "[216, 184, 491]"
            ]
          },
          "metadata": {
            "tags": []
          },
          "execution_count": 504
        }
      ]
    },
    {
      "cell_type": "code",
      "metadata": {
        "colab": {
          "base_uri": "https://localhost:8080/",
          "height": 202
        },
        "id": "8qTRpoSgTNSj",
        "outputId": "54307fb9-a86b-4f16-8b7c-b19178f8f21f"
      },
      "source": [
        "# Data analysis in train data\n",
        "fig, axs = plt.subplots(1, 3, figsize=(8,8))\n",
        "fig.tight_layout(w_pad=2.0)\n",
        "\n",
        "axs[0].pie(df_train_pclass['Num'].tolist(), labels=df_train_pclass['ticket_class'], autopct='%1.1f%%')\n",
        "axs[0].set_title('Analysis of Train Data by Pclass') \n",
        "\n",
        "axs[1].pie(df_train_gender['Num'].tolist(), labels=df_train_gender['Sex'], autopct='%1.1f%%')\n",
        "axs[1].set_title('Analysis of Train Data by Sex') \n",
        "\n",
        "axs[2].pie(df_train_survived['Num'].tolist(), labels=df_train_survived['result'], autopct='%1.1f%%')\n",
        "axs[2].set_title('Analysis of Train Data by Survived') "
      ],
      "execution_count": 505,
      "outputs": [
        {
          "output_type": "execute_result",
          "data": {
            "text/plain": [
              "Text(0.5, 1.0, 'Analysis of Train Data by Survived')"
            ]
          },
          "metadata": {
            "tags": []
          },
          "execution_count": 505
        },
        {
          "output_type": "display_data",
          "data": {
            "image/png": "[encoded data removed]",
            "text/plain": [
              "<Figure size 576x576 with 3 Axes>"
            ]
          },
          "metadata": {
            "tags": []
          }
        }
      ]
    },
    {
      "cell_type": "code",
      "metadata": {
        "colab": {
          "base_uri": "https://localhost:8080/",
          "height": 137
        },
        "id": "wPhRWIVgYiV0",
        "outputId": "62888ee5-7f36-4e2e-a4a8-32195dac1944"
      },
      "source": [
        "df_test_pclass = df_test.groupby('Pclass').size().reset_index(name='Num')\n",
        "df_test_pclass['ticket_class'] = ['first', 'second', 'third']\n",
        "df_test_pclass"
      ],
      "execution_count": 506,
      "outputs": [
        {
          "output_type": "execute_result",
          "data": {
            "text/html": [
              "<div>\n",
              "<style scoped>\n",
              "    .dataframe tbody tr th:only-of-type {\n",
              "        vertical-align: middle;\n",
              "    }\n",
              "\n",
              "    .dataframe tbody tr th {\n",
              "        vertical-align: top;\n",
              "    }\n",
              "\n",
              "    .dataframe thead th {\n",
              "        text-align: right;\n",
              "    }\n",
              "</style>\n",
              "<table border=\"1\" class=\"dataframe\">\n",
              "  <thead>\n",
              "    <tr style=\"text-align: right;\">\n",
              "      <th></th>\n",
              "      <th>Pclass</th>\n",
              "      <th>Num</th>\n",
              "      <th>ticket_class</th>\n",
              "    </tr>\n",
              "  </thead>\n",
              "  <tbody>\n",
              "    <tr>\n",
              "      <th>0</th>\n",
              "      <td>1</td>\n",
              "      <td>107</td>\n",
              "      <td>first</td>\n",
              "    </tr>\n",
              "    <tr>\n",
              "      <th>1</th>\n",
              "      <td>2</td>\n",
              "      <td>93</td>\n",
              "      <td>second</td>\n",
              "    </tr>\n",
              "    <tr>\n",
              "      <th>2</th>\n",
              "      <td>3</td>\n",
              "      <td>218</td>\n",
              "      <td>third</td>\n",
              "    </tr>\n",
              "  </tbody>\n",
              "</table>\n",
              "</div>"
            ],
            "text/plain": [
              "   Pclass  Num ticket_class\n",
              "0       1  107        first\n",
              "1       2   93       second\n",
              "2       3  218        third"
            ]
          },
          "metadata": {
            "tags": []
          },
          "execution_count": 506
        }
      ]
    },
    {
      "cell_type": "code",
      "metadata": {
        "colab": {
          "base_uri": "https://localhost:8080/",
          "height": 107
        },
        "id": "MobYUrLzYiaU",
        "outputId": "4457dbc6-0e70-466d-9c72-90d4ba3f5025"
      },
      "source": [
        "df_test_gender = df_test.groupby('Sex').size().reset_index(name='Num')\n",
        "df_test_gender"
      ],
      "execution_count": 507,
      "outputs": [
        {
          "output_type": "execute_result",
          "data": {
            "text/html": [
              "<div>\n",
              "<style scoped>\n",
              "    .dataframe tbody tr th:only-of-type {\n",
              "        vertical-align: middle;\n",
              "    }\n",
              "\n",
              "    .dataframe tbody tr th {\n",
              "        vertical-align: top;\n",
              "    }\n",
              "\n",
              "    .dataframe thead th {\n",
              "        text-align: right;\n",
              "    }\n",
              "</style>\n",
              "<table border=\"1\" class=\"dataframe\">\n",
              "  <thead>\n",
              "    <tr style=\"text-align: right;\">\n",
              "      <th></th>\n",
              "      <th>Sex</th>\n",
              "      <th>Num</th>\n",
              "    </tr>\n",
              "  </thead>\n",
              "  <tbody>\n",
              "    <tr>\n",
              "      <th>0</th>\n",
              "      <td>female</td>\n",
              "      <td>152</td>\n",
              "    </tr>\n",
              "    <tr>\n",
              "      <th>1</th>\n",
              "      <td>male</td>\n",
              "      <td>266</td>\n",
              "    </tr>\n",
              "  </tbody>\n",
              "</table>\n",
              "</div>"
            ],
            "text/plain": [
              "      Sex  Num\n",
              "0  female  152\n",
              "1    male  266"
            ]
          },
          "metadata": {
            "tags": []
          },
          "execution_count": 507
        }
      ]
    },
    {
      "cell_type": "code",
      "metadata": {
        "colab": {
          "base_uri": "https://localhost:8080/",
          "height": 228
        },
        "id": "2Rt_wznEYidH",
        "outputId": "d3338c4c-b867-4eca-bc0c-4eaf6cfe0809"
      },
      "source": [
        "# Data analysis in test data\n",
        "fig, axs = plt.subplots(1, 2, figsize=(6,6))\n",
        "fig.tight_layout(w_pad=2.0)\n",
        "\n",
        "axs[0].pie(df_test_pclass['Num'].tolist(), labels=df_test_pclass['ticket_class'], autopct='%1.1f%%')\n",
        "axs[0].set_title('Analysis of Test Data by Pclass') \n",
        "\n",
        "axs[1].pie(df_test_gender['Num'].tolist(), labels=df_test_gender['Sex'], autopct='%1.1f%%')\n",
        "axs[1].set_title('Analysis of Test Data by Sex') "
      ],
      "execution_count": 508,
      "outputs": [
        {
          "output_type": "execute_result",
          "data": {
            "text/plain": [
              "Text(0.5, 1.0, 'Analysis of Test Data by Sex')"
            ]
          },
          "metadata": {
            "tags": []
          },
          "execution_count": 508
        },
        {
          "output_type": "display_data",
          "data": {
            "image/png": "[encoded data removed]",
            "text/plain": [
              "<Figure size 432x432 with 2 Axes>"
            ]
          },
          "metadata": {
            "tags": []
          }
        }
      ]
    },
    {
      "cell_type": "markdown",
      "metadata": {
        "id": "Wf0RXsvoZRQc"
      },
      "source": [
        "3.3 Scope:\n",
        "In general, larger scope is more useful than smaller scope since we can filter larger scope down to a smaller scope but often can't go from smaller scope to larger scope. For the train data, the scope of age, fare, sibsp, and parch are 79.58, 512.33, 8, 6 respectively. For the test data, the scope of age, fare, sibsp, and parch are 75.83, 512.33, 8, 9 respectively."
      ]
    },
    {
      "cell_type": "code",
      "metadata": {
        "colab": {
          "base_uri": "https://localhost:8080/"
        },
        "id": "9zCffJYMawL_",
        "outputId": "0d1fc215-8962-46ea-e12a-0f25298ce3d9"
      },
      "source": [
        "# scope analysis of train data\n",
        "print('Scope of Age: ', df_train['Age'].max() - df_train['Age'].min())\n",
        "print('Scope of Fare: ', df_train['Fare'].max() - df_train['Fare'].min())\n",
        "print('Scope of SibSp: ', df_train['SibSp'].max() - df_train['SibSp'].min())\n",
        "print('Scope of Parch: ', df_train['Parch'].max() - df_train['Parch'].min())"
      ],
      "execution_count": 509,
      "outputs": [
        {
          "output_type": "stream",
          "text": [
            "Scope of Age:  79.58\n",
            "Scope of Fare:  512.3292\n",
            "Scope of SibSp:  8\n",
            "Scope of Parch:  6\n"
          ],
          "name": "stdout"
        }
      ]
    },
    {
      "cell_type": "code",
      "metadata": {
        "colab": {
          "base_uri": "https://localhost:8080/",
          "height": 326
        },
        "id": "3MKCbA7Sdj7n",
        "outputId": "8bd76adb-6d79-459c-b853-a771ef2bb5af"
      },
      "source": [
        "# Data analysis in train data\n",
        "fig, axs = plt.subplots(2, 2, figsize=(8,4))\n",
        "fig.tight_layout(w_pad=2.0, h_pad = 2.0)\n",
        "\n",
        "axs[0, 0].hist(df_train['Age'], bins=10)\n",
        "axs[0, 0].set_title('Analysis of Test Data by Age') \n",
        "\n",
        "axs[1, 0].hist(df_train['Fare'], bins=5)\n",
        "axs[1, 0].set_title('Analysis of Test Data by Fare') \n",
        "\n",
        "axs[0, 1].hist(df_train['SibSp'], bins=8)\n",
        "axs[0, 1].set_title('Analysis of Test Data by SibSp') \n",
        "\n",
        "axs[1, 1].hist(df_train['Parch'], bins=6)\n",
        "axs[1, 1].set_title('Analysis of Test Data by Parch') "
      ],
      "execution_count": 510,
      "outputs": [
        {
          "output_type": "execute_result",
          "data": {
            "text/plain": [
              "Text(0.5, 1.0, 'Analysis of Test Data by Parch')"
            ]
          },
          "metadata": {
            "tags": []
          },
          "execution_count": 510
        },
        {
          "output_type": "display_data",
          "data": {
            "image/png": "[encoded data removed]",
            "text/plain": [
              "<Figure size 576x288 with 4 Axes>"
            ]
          },
          "metadata": {
            "tags": [],
            "needs_background": "light"
          }
        }
      ]
    },
    {
      "cell_type": "code",
      "metadata": {
        "colab": {
          "base_uri": "https://localhost:8080/"
        },
        "id": "TZRM67qOdkDR",
        "outputId": "e8e0be71-1da6-4433-b5ad-3270926c97da"
      },
      "source": [
        "# scope analysis of test data\n",
        "print('Scope of Age: ', df_test['Age'].max() - df_test['Age'].min())\n",
        "print('Scope of Fare: ', df_test['Fare'].max() - df_test['Fare'].min())\n",
        "print('Scope of SibSp: ', df_test['SibSp'].max() - df_test['SibSp'].min())\n",
        "print('Scope of Parch: ', df_test['Parch'].max() - df_test['Parch'].min())"
      ],
      "execution_count": 511,
      "outputs": [
        {
          "output_type": "stream",
          "text": [
            "Scope of Age:  75.83\n",
            "Scope of Fare:  512.3292\n",
            "Scope of SibSp:  8\n",
            "Scope of Parch:  9\n"
          ],
          "name": "stdout"
        }
      ]
    },
    {
      "cell_type": "code",
      "metadata": {
        "colab": {
          "base_uri": "https://localhost:8080/",
          "height": 326
        },
        "id": "YwQJj6i_cHWl",
        "outputId": "c1ddd04a-5a41-46dc-da66-adaba37217f0"
      },
      "source": [
        "# Data analysis in test data\n",
        "fig, axs = plt.subplots(2, 2, figsize=(8,4))\n",
        "fig.tight_layout(w_pad=2.0, h_pad = 2.0)\n",
        "\n",
        "axs[0, 0].hist(df_test['Age'], bins=10)\n",
        "axs[0, 0].set_title('Analysis of Test Data by Age') \n",
        "\n",
        "axs[1, 0].hist(df_test['Fare'], bins=10)\n",
        "# axs[1, 0].set_xticks(list(range(0, 600, 60)))\n",
        "axs[1, 0].set_title('Analysis of Test Data by Fare') \n",
        "\n",
        "axs[0, 1].hist(df_test['SibSp'], bins=8)\n",
        "axs[0, 1].set_title('Analysis of Test Data by SibSp') \n",
        "\n",
        "axs[1, 1].hist(df_test['Parch'], bins=9)\n",
        "axs[1, 1].set_title('Analysis of Test Data by Parch') "
      ],
      "execution_count": 512,
      "outputs": [
        {
          "output_type": "execute_result",
          "data": {
            "text/plain": [
              "Text(0.5, 1.0, 'Analysis of Test Data by Parch')"
            ]
          },
          "metadata": {
            "tags": []
          },
          "execution_count": 512
        },
        {
          "output_type": "display_data",
          "data": {
            "image/png": "[encoded data removed]",
            "text/plain": [
              "<Figure size 576x288 with 4 Axes>"
            ]
          },
          "metadata": {
            "tags": [],
            "needs_background": "light"
          }
        }
      ]
    },
    {
      "cell_type": "markdown",
      "metadata": {
        "id": "lUUAT0d0nfXB"
      },
      "source": [
        "3.4 Temporality: \n",
        "Temporality refers to how the data are situated in time and specifically to the date and time fields in the dataset. Since all the data don't include any information related to time, I think this property cannot be identified in this problem."
      ]
    },
    {
      "cell_type": "markdown",
      "metadata": {
        "id": "N4yiSO-1sutH"
      },
      "source": [
        "3.5 Faithfulness:\n",
        "Combining the analysis of train data and test data, the scope of age is [0.17,80], the scope of fare is [0,512.33], the scope of sibsp is [0,8], and the scope of parch is [0,9]. It seems like reasonable and credible."
      ]
    },
    {
      "cell_type": "code",
      "metadata": {
        "colab": {
          "base_uri": "https://localhost:8080/"
        },
        "id": "km4kZQVdnjTQ",
        "outputId": "c67698e7-93ed-4eb7-cd50-79eb38af68b6"
      },
      "source": [
        "# range of train data\n",
        "print('Range of Age: ', df_train['Age'].min(), \"-\", df_train['Age'].max())\n",
        "print('Range of Fare: ', df_train['Fare'].min(), \"-\",  df_train['Fare'].max())\n",
        "print('Range of SibSp: ', df_train['SibSp'].min(), \"-\",  df_train['SibSp'].max())\n",
        "print('Range of Parch: ', df_train['Parch'].min(), \"-\",  df_train['Parch'].max())"
      ],
      "execution_count": 513,
      "outputs": [
        {
          "output_type": "stream",
          "text": [
            "Range of Age:  0.42 - 80.0\n",
            "Range of Fare:  0.0 - 512.3292\n",
            "Range of SibSp:  0 - 8\n",
            "Range of Parch:  0 - 6\n"
          ],
          "name": "stdout"
        }
      ]
    },
    {
      "cell_type": "code",
      "metadata": {
        "colab": {
          "base_uri": "https://localhost:8080/"
        },
        "id": "cD1THSuUnjZw",
        "outputId": "74534f53-0928-42f6-f888-1b44dea6fc5b"
      },
      "source": [
        "# range of test data\n",
        "print('Range of Age: ', df_test['Age'].min(), \"-\", df_test['Age'].max())\n",
        "print('Range of Fare: ', df_test['Fare'].min(), \"-\",  df_test['Fare'].max())\n",
        "print('Range of SibSp: ', df_test['SibSp'].min(), \"-\",  df_test['SibSp'].max())\n",
        "print('Range of Parch: ', df_test['Parch'].min(), \"-\",  df_test['Parch'].max())"
      ],
      "execution_count": 514,
      "outputs": [
        {
          "output_type": "stream",
          "text": [
            "Range of Age:  0.17 - 76.0\n",
            "Range of Fare:  0.0 - 512.3292\n",
            "Range of SibSp:  0 - 8\n",
            "Range of Parch:  0 - 9\n"
          ],
          "name": "stdout"
        }
      ]
    }
  ]
}