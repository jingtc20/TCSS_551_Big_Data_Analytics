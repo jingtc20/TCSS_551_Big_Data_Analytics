{
  "nbformat": 4,
  "nbformat_minor": 0,
  "metadata": {
    "colab": {
      "name": "Task.ipynb",
      "provenance": [],
      "collapsed_sections": []
    },
    "kernelspec": {
      "name": "python3",
      "display_name": "Python 3"
    },
    "language_info": {
      "name": "python"
    }
  },
  "cells": [
    {
      "cell_type": "code",
      "metadata": {
        "id": "w5jr58QsvY5D"
      },
      "source": [
        "import pandas as pd\n",
        "import numpy as np\n",
        "import matplotlib.pyplot as plt"
      ],
      "execution_count": 655,
      "outputs": []
    },
    {
      "cell_type": "code",
      "metadata": {
        "colab": {
          "base_uri": "https://localhost:8080/",
          "height": 535
        },
        "id": "0rWfiprEveKE",
        "outputId": "803c5475-3ec8-4f8e-dfa1-f2d7a13dcb2e"
      },
      "source": [
        "df = pd.read_csv('/content/sample_data/Dataset.csv')\n",
        "print(\"The shape of the data: \", df.shape)\n",
        "df.head()"
      ],
      "execution_count": 656,
      "outputs": [
        {
          "output_type": "stream",
          "text": [
            "The shape of the data:  (606, 14)\n"
          ],
          "name": "stdout"
        },
        {
          "output_type": "execute_result",
          "data": {
            "text/html": [
              "<div>\n",
              "<style scoped>\n",
              "    .dataframe tbody tr th:only-of-type {\n",
              "        vertical-align: middle;\n",
              "    }\n",
              "\n",
              "    .dataframe tbody tr th {\n",
              "        vertical-align: top;\n",
              "    }\n",
              "\n",
              "    .dataframe thead th {\n",
              "        text-align: right;\n",
              "    }\n",
              "</style>\n",
              "<table border=\"1\" class=\"dataframe\">\n",
              "  <thead>\n",
              "    <tr style=\"text-align: right;\">\n",
              "      <th></th>\n",
              "      <th>Position</th>\n",
              "      <th>Company</th>\n",
              "      <th>Location</th>\n",
              "      <th>Industry</th>\n",
              "      <th>Posted On</th>\n",
              "      <th>Extracted On</th>\n",
              "      <th>Job Type</th>\n",
              "      <th>Qualification</th>\n",
              "      <th>Job Description</th>\n",
              "      <th>Job Id</th>\n",
              "      <th>Experience</th>\n",
              "      <th>Start Date</th>\n",
              "      <th>End Date</th>\n",
              "      <th>Source</th>\n",
              "    </tr>\n",
              "  </thead>\n",
              "  <tbody>\n",
              "    <tr>\n",
              "      <th>0</th>\n",
              "      <td>Data Science Intern</td>\n",
              "      <td>Amazon</td>\n",
              "      <td>Seattle, WA</td>\n",
              "      <td>Retail/Ecommerce</td>\n",
              "      <td>NaN</td>\n",
              "      <td>NaN</td>\n",
              "      <td>NaN</td>\n",
              "      <td>Enrolled in Master’s or Ph.D. degree in math, ...</td>\n",
              "      <td>We are looking for motivated data scientists w...</td>\n",
              "      <td>Job ID: A1235288</td>\n",
              "      <td>machine-learning methodologies,\\nclustered dat...</td>\n",
              "      <td>NaN</td>\n",
              "      <td>NaN</td>\n",
              "      <td>https://www.amazon.jobs/en/jobs/1235288/data-s...</td>\n",
              "    </tr>\n",
              "    <tr>\n",
              "      <th>1</th>\n",
              "      <td>IT Intern - BI &amp; Analytics - Data Analytics</td>\n",
              "      <td>Costco Wholesale</td>\n",
              "      <td>NaN</td>\n",
              "      <td>Retail/Ecommerce</td>\n",
              "      <td>NaN</td>\n",
              "      <td>NaN</td>\n",
              "      <td>NaN</td>\n",
              "      <td>maintaining a GPA of 3.0 or higher\\nstudents c...</td>\n",
              "      <td>Costco’s IT Division is inviting students curr...</td>\n",
              "      <td>NaN</td>\n",
              "      <td>Costco warehouse, Ecommerce or retail experience</td>\n",
              "      <td>NaN</td>\n",
              "      <td>NaN</td>\n",
              "      <td>https://www.glassdoor.com/job-listing/it-inter...</td>\n",
              "    </tr>\n",
              "    <tr>\n",
              "      <th>2</th>\n",
              "      <td>Intern, Data Analytics-SoCal</td>\n",
              "      <td>Avanade</td>\n",
              "      <td>Seattle, WA</td>\n",
              "      <td>Management consulting company</td>\n",
              "      <td>NaN</td>\n",
              "      <td>NaN</td>\n",
              "      <td>NaN</td>\n",
              "      <td>College Junior-standing with target graduation...</td>\n",
              "      <td>Responsibilities may include:\\nSupport project...</td>\n",
              "      <td>NaN</td>\n",
              "      <td>•Experience with at least one key analytics to...</td>\n",
              "      <td>10-week summer (June-August)</td>\n",
              "      <td>NaN</td>\n",
              "      <td>https://www.glassdoor.co.in/job-listing/intern...</td>\n",
              "    </tr>\n",
              "    <tr>\n",
              "      <th>3</th>\n",
              "      <td>Data Scientist, Analytics, Intern\\n</td>\n",
              "      <td>\\nFacebook</td>\n",
              "      <td>Seattle, WA</td>\n",
              "      <td>Social Media Advertising</td>\n",
              "      <td>NaN</td>\n",
              "      <td>NaN</td>\n",
              "      <td>NaN</td>\n",
              "      <td>Currently has, or is in the process of obtaini...</td>\n",
              "      <td>Perform large-scale data analysis to extract u...</td>\n",
              "      <td>NaN</td>\n",
              "      <td>Experience in solving analytical problems usin...</td>\n",
              "      <td>NaN</td>\n",
              "      <td>NaN</td>\n",
              "      <td>https://www.facebook.com/careers/v2/jobs/55929...</td>\n",
              "    </tr>\n",
              "    <tr>\n",
              "      <th>4</th>\n",
              "      <td>Summer Intern, Data Science\\n\\n</td>\n",
              "      <td>Just - Evotec Biologics</td>\n",
              "      <td>Seattle, WA</td>\n",
              "      <td>Biotechnology Company</td>\n",
              "      <td>NaN</td>\n",
              "      <td>NaN</td>\n",
              "      <td>NaN</td>\n",
              "      <td>B.Sc. in molecular and computer science, cellu...</td>\n",
              "      <td>Just is seeking a motivated bachelor or master...</td>\n",
              "      <td>243034373-2</td>\n",
              "      <td>Experience with data science, data management ...</td>\n",
              "      <td>NaN</td>\n",
              "      <td>NaN</td>\n",
              "      <td>https://westcoast-jobs.com/jobs/summer-intern-...</td>\n",
              "    </tr>\n",
              "  </tbody>\n",
              "</table>\n",
              "</div>"
            ],
            "text/plain": [
              "                                      Position  ...                                             Source\n",
              "0                          Data Science Intern  ...  https://www.amazon.jobs/en/jobs/1235288/data-s...\n",
              "1  IT Intern - BI & Analytics - Data Analytics  ...  https://www.glassdoor.com/job-listing/it-inter...\n",
              "2                 Intern, Data Analytics-SoCal  ...  https://www.glassdoor.co.in/job-listing/intern...\n",
              "3          Data Scientist, Analytics, Intern\\n  ...  https://www.facebook.com/careers/v2/jobs/55929...\n",
              "4              Summer Intern, Data Science\\n\\n  ...  https://westcoast-jobs.com/jobs/summer-intern-...\n",
              "\n",
              "[5 rows x 14 columns]"
            ]
          },
          "metadata": {
            "tags": []
          },
          "execution_count": 656
        }
      ]
    },
    {
      "cell_type": "code",
      "metadata": {
        "colab": {
          "base_uri": "https://localhost:8080/"
        },
        "id": "jrh-fFxsbHnj",
        "outputId": "f4de63ec-51a5-4359-e308-adaef1ef7db5"
      },
      "source": [
        "df.info()"
      ],
      "execution_count": 657,
      "outputs": [
        {
          "output_type": "stream",
          "text": [
            "<class 'pandas.core.frame.DataFrame'>\n",
            "RangeIndex: 606 entries, 0 to 605\n",
            "Data columns (total 14 columns):\n",
            " #   Column           Non-Null Count  Dtype \n",
            "---  ------           --------------  ----- \n",
            " 0   Position         606 non-null    object\n",
            " 1   Company          606 non-null    object\n",
            " 2   Location         603 non-null    object\n",
            " 3   Industry         606 non-null    object\n",
            " 4   Posted On        8 non-null      object\n",
            " 5   Extracted On     8 non-null      object\n",
            " 6   Job Type         8 non-null      object\n",
            " 7   Qualification    193 non-null    object\n",
            " 8   Job Description  605 non-null    object\n",
            " 9   Job Id           92 non-null     object\n",
            " 10  Experience       603 non-null    object\n",
            " 11  Start Date       27 non-null     object\n",
            " 12  End Date         26 non-null     object\n",
            " 13  Source           594 non-null    object\n",
            "dtypes: object(14)\n",
            "memory usage: 66.4+ KB\n"
          ],
          "name": "stdout"
        }
      ]
    },
    {
      "cell_type": "code",
      "metadata": {
        "colab": {
          "base_uri": "https://localhost:8080/",
          "height": 375
        },
        "id": "0u6rFdsBb1-X",
        "outputId": "af774d0b-2a43-4b9a-9db2-06905b5db297"
      },
      "source": [
        "# the data have three duplicated data, so we have to remove them first\n",
        "print(\"The number of duplicated data: \", df[df.duplicated()].shape[0])\n",
        "df[df.duplicated()]"
      ],
      "execution_count": 658,
      "outputs": [
        {
          "output_type": "stream",
          "text": [
            "The number of duplicated data:  3\n"
          ],
          "name": "stdout"
        },
        {
          "output_type": "execute_result",
          "data": {
            "text/html": [
              "<div>\n",
              "<style scoped>\n",
              "    .dataframe tbody tr th:only-of-type {\n",
              "        vertical-align: middle;\n",
              "    }\n",
              "\n",
              "    .dataframe tbody tr th {\n",
              "        vertical-align: top;\n",
              "    }\n",
              "\n",
              "    .dataframe thead th {\n",
              "        text-align: right;\n",
              "    }\n",
              "</style>\n",
              "<table border=\"1\" class=\"dataframe\">\n",
              "  <thead>\n",
              "    <tr style=\"text-align: right;\">\n",
              "      <th></th>\n",
              "      <th>Position</th>\n",
              "      <th>Company</th>\n",
              "      <th>Location</th>\n",
              "      <th>Industry</th>\n",
              "      <th>Posted On</th>\n",
              "      <th>Extracted On</th>\n",
              "      <th>Job Type</th>\n",
              "      <th>Qualification</th>\n",
              "      <th>Job Description</th>\n",
              "      <th>Job Id</th>\n",
              "      <th>Experience</th>\n",
              "      <th>Start Date</th>\n",
              "      <th>End Date</th>\n",
              "      <th>Source</th>\n",
              "    </tr>\n",
              "  </thead>\n",
              "  <tbody>\n",
              "    <tr>\n",
              "      <th>242</th>\n",
              "      <td>Software - Video Games Engineering Internship ...</td>\n",
              "      <td>Tesla</td>\n",
              "      <td>Bellevue, WA</td>\n",
              "      <td>Manufacturing</td>\n",
              "      <td>NaN</td>\n",
              "      <td>NaN</td>\n",
              "      <td>NaN</td>\n",
              "      <td>NaN</td>\n",
              "      <td>Many students will be limited to part-time dep...</td>\n",
              "      <td>NaN</td>\n",
              "      <td>NA-Feb 2020 Data</td>\n",
              "      <td>NaN</td>\n",
              "      <td>NaN</td>\n",
              "      <td>https://www.indeed.com/rc/clk?jk=3ebfeda5d9214...</td>\n",
              "    </tr>\n",
              "    <tr>\n",
              "      <th>248</th>\n",
              "      <td>Summer 2021 Intern - Software Engineer</td>\n",
              "      <td>Salesforce</td>\n",
              "      <td>Bellevue, WA 98006 (Somerset area)</td>\n",
              "      <td>Internet</td>\n",
              "      <td>NaN</td>\n",
              "      <td>NaN</td>\n",
              "      <td>NaN</td>\n",
              "      <td>NaN</td>\n",
              "      <td>Academic or professional/internship experience...</td>\n",
              "      <td>NaN</td>\n",
              "      <td>NA-Feb 2020 Data</td>\n",
              "      <td>NaN</td>\n",
              "      <td>NaN</td>\n",
              "      <td>https://www.indeed.com/rc/clk?jk=488fd0eb5913f...</td>\n",
              "    </tr>\n",
              "    <tr>\n",
              "      <th>249</th>\n",
              "      <td>Summer 2021 Intern - Software Engineer</td>\n",
              "      <td>Salesforce</td>\n",
              "      <td>Bellevue, WA 98006 (Somerset area)</td>\n",
              "      <td>Internet</td>\n",
              "      <td>NaN</td>\n",
              "      <td>NaN</td>\n",
              "      <td>NaN</td>\n",
              "      <td>NaN</td>\n",
              "      <td>Academic or professional/internship experience...</td>\n",
              "      <td>NaN</td>\n",
              "      <td>NA-Feb 2020 Data</td>\n",
              "      <td>NaN</td>\n",
              "      <td>NaN</td>\n",
              "      <td>https://www.indeed.com/rc/clk?jk=488fd0eb5913f...</td>\n",
              "    </tr>\n",
              "  </tbody>\n",
              "</table>\n",
              "</div>"
            ],
            "text/plain": [
              "                                              Position  ...                                             Source\n",
              "242  Software - Video Games Engineering Internship ...  ...  https://www.indeed.com/rc/clk?jk=3ebfeda5d9214...\n",
              "248             Summer 2021 Intern - Software Engineer  ...  https://www.indeed.com/rc/clk?jk=488fd0eb5913f...\n",
              "249             Summer 2021 Intern - Software Engineer  ...  https://www.indeed.com/rc/clk?jk=488fd0eb5913f...\n",
              "\n",
              "[3 rows x 14 columns]"
            ]
          },
          "metadata": {
            "tags": []
          },
          "execution_count": 658
        }
      ]
    },
    {
      "cell_type": "code",
      "metadata": {
        "colab": {
          "base_uri": "https://localhost:8080/"
        },
        "id": "KQTyTgmrc1hg",
        "outputId": "c4586b6b-7e61-4c6f-93d1-9e1842bbc2b9"
      },
      "source": [
        "# after removing three duplicated data, the shape of the data converts to (603, 14)\n",
        "df.drop_duplicates(inplace = True)\n",
        "print(\"The shape of the data: \", df.shape)\n",
        "df.info()"
      ],
      "execution_count": 659,
      "outputs": [
        {
          "output_type": "stream",
          "text": [
            "The shape of the data:  (603, 14)\n",
            "<class 'pandas.core.frame.DataFrame'>\n",
            "Int64Index: 603 entries, 0 to 605\n",
            "Data columns (total 14 columns):\n",
            " #   Column           Non-Null Count  Dtype \n",
            "---  ------           --------------  ----- \n",
            " 0   Position         603 non-null    object\n",
            " 1   Company          603 non-null    object\n",
            " 2   Location         600 non-null    object\n",
            " 3   Industry         603 non-null    object\n",
            " 4   Posted On        8 non-null      object\n",
            " 5   Extracted On     8 non-null      object\n",
            " 6   Job Type         8 non-null      object\n",
            " 7   Qualification    193 non-null    object\n",
            " 8   Job Description  602 non-null    object\n",
            " 9   Job Id           92 non-null     object\n",
            " 10  Experience       600 non-null    object\n",
            " 11  Start Date       27 non-null     object\n",
            " 12  End Date         26 non-null     object\n",
            " 13  Source           591 non-null    object\n",
            "dtypes: object(14)\n",
            "memory usage: 70.7+ KB\n"
          ],
          "name": "stdout"
        }
      ]
    },
    {
      "cell_type": "markdown",
      "metadata": {
        "id": "DlXQ0g1153Ef"
      },
      "source": [
        "# 1. Analyze the data in the \"Position\" column and describe some of the characteristics of this data. Mention the top 3 Positions that are in high demand?"
      ]
    },
    {
      "cell_type": "code",
      "metadata": {
        "colab": {
          "base_uri": "https://localhost:8080/",
          "height": 197
        },
        "id": "dN31e7Buv5fW",
        "outputId": "2f2b3ac6-6ffd-4b49-a1a0-ac0fe8206ac8"
      },
      "source": [
        "# return the count of each unique Position: 452\n",
        "df_pos = df['Position'].value_counts().rename_axis('Position').reset_index(name='Freq')\n",
        "df_pos.head()"
      ],
      "execution_count": 660,
      "outputs": [
        {
          "output_type": "execute_result",
          "data": {
            "text/html": [
              "<div>\n",
              "<style scoped>\n",
              "    .dataframe tbody tr th:only-of-type {\n",
              "        vertical-align: middle;\n",
              "    }\n",
              "\n",
              "    .dataframe tbody tr th {\n",
              "        vertical-align: top;\n",
              "    }\n",
              "\n",
              "    .dataframe thead th {\n",
              "        text-align: right;\n",
              "    }\n",
              "</style>\n",
              "<table border=\"1\" class=\"dataframe\">\n",
              "  <thead>\n",
              "    <tr style=\"text-align: right;\">\n",
              "      <th></th>\n",
              "      <th>Position</th>\n",
              "      <th>Freq</th>\n",
              "    </tr>\n",
              "  </thead>\n",
              "  <tbody>\n",
              "    <tr>\n",
              "      <th>0</th>\n",
              "      <td>Senior Software Engineer</td>\n",
              "      <td>23</td>\n",
              "    </tr>\n",
              "    <tr>\n",
              "      <th>1</th>\n",
              "      <td>Data Science Intern</td>\n",
              "      <td>9</td>\n",
              "    </tr>\n",
              "    <tr>\n",
              "      <th>2</th>\n",
              "      <td>Software Engineer Intern</td>\n",
              "      <td>9</td>\n",
              "    </tr>\n",
              "    <tr>\n",
              "      <th>3</th>\n",
              "      <td>Data Analyst Intern</td>\n",
              "      <td>8</td>\n",
              "    </tr>\n",
              "    <tr>\n",
              "      <th>4</th>\n",
              "      <td>Web Developer</td>\n",
              "      <td>8</td>\n",
              "    </tr>\n",
              "  </tbody>\n",
              "</table>\n",
              "</div>"
            ],
            "text/plain": [
              "                   Position  Freq\n",
              "0  Senior Software Engineer    23\n",
              "1       Data Science Intern     9\n",
              "2  Software Engineer Intern     9\n",
              "3       Data Analyst Intern     8\n",
              "4             Web Developer     8"
            ]
          },
          "metadata": {
            "tags": []
          },
          "execution_count": 660
        }
      ]
    },
    {
      "cell_type": "code",
      "metadata": {
        "colab": {
          "base_uri": "https://localhost:8080/"
        },
        "id": "mG0Arf3WxgRA",
        "outputId": "b93f1c0e-77e7-4e93-acb6-fa9e22c0edf6"
      },
      "source": [
        "# top 3 Positions that are in high demand\n",
        "df['Position'].value_counts().head(3).index.tolist()"
      ],
      "execution_count": 661,
      "outputs": [
        {
          "output_type": "execute_result",
          "data": {
            "text/plain": [
              "['Senior Software Engineer', 'Data Science Intern', 'Software Engineer Intern']"
            ]
          },
          "metadata": {
            "tags": []
          },
          "execution_count": 661
        }
      ]
    },
    {
      "cell_type": "markdown",
      "metadata": {
        "id": "NTcX7iSz6Aq7"
      },
      "source": [
        "# 2. How many different companies have a job listing in the given dataset? What is the average count of jobs listed per company?"
      ]
    },
    {
      "cell_type": "code",
      "metadata": {
        "colab": {
          "base_uri": "https://localhost:8080/",
          "height": 197
        },
        "id": "pcRxbRgv3VEw",
        "outputId": "8d82f013-5ac1-406c-e875-4ddb4273f946"
      },
      "source": [
        "# the count of unique job position in each company\n",
        "df_com = df['Company'].value_counts().rename_axis('Company').reset_index(name='Freq')\n",
        "df_com.head()"
      ],
      "execution_count": 662,
      "outputs": [
        {
          "output_type": "execute_result",
          "data": {
            "text/html": [
              "<div>\n",
              "<style scoped>\n",
              "    .dataframe tbody tr th:only-of-type {\n",
              "        vertical-align: middle;\n",
              "    }\n",
              "\n",
              "    .dataframe tbody tr th {\n",
              "        vertical-align: top;\n",
              "    }\n",
              "\n",
              "    .dataframe thead th {\n",
              "        text-align: right;\n",
              "    }\n",
              "</style>\n",
              "<table border=\"1\" class=\"dataframe\">\n",
              "  <thead>\n",
              "    <tr style=\"text-align: right;\">\n",
              "      <th></th>\n",
              "      <th>Company</th>\n",
              "      <th>Freq</th>\n",
              "    </tr>\n",
              "  </thead>\n",
              "  <tbody>\n",
              "    <tr>\n",
              "      <th>0</th>\n",
              "      <td>Microsoft</td>\n",
              "      <td>85</td>\n",
              "    </tr>\n",
              "    <tr>\n",
              "      <th>1</th>\n",
              "      <td>Amazon.com Services LLC</td>\n",
              "      <td>23</td>\n",
              "    </tr>\n",
              "    <tr>\n",
              "      <th>2</th>\n",
              "      <td>Seattle IT</td>\n",
              "      <td>12</td>\n",
              "    </tr>\n",
              "    <tr>\n",
              "      <th>3</th>\n",
              "      <td>Russell Investments</td>\n",
              "      <td>11</td>\n",
              "    </tr>\n",
              "    <tr>\n",
              "      <th>4</th>\n",
              "      <td>T-Mobile</td>\n",
              "      <td>11</td>\n",
              "    </tr>\n",
              "  </tbody>\n",
              "</table>\n",
              "</div>"
            ],
            "text/plain": [
              "                   Company  Freq\n",
              "0                Microsoft    85\n",
              "1  Amazon.com Services LLC    23\n",
              "2               Seattle IT    12\n",
              "3      Russell Investments    11\n",
              "4                 T-Mobile    11"
            ]
          },
          "metadata": {
            "tags": []
          },
          "execution_count": 662
        }
      ]
    },
    {
      "cell_type": "code",
      "metadata": {
        "colab": {
          "base_uri": "https://localhost:8080/"
        },
        "id": "fiCLeyGGzMV3",
        "outputId": "64d14728-5426-4e25-d5c2-6556ba4110eb"
      },
      "source": [
        "# the count of unique companies: 293\n",
        "len(pd.unique(df['Company']))"
      ],
      "execution_count": 663,
      "outputs": [
        {
          "output_type": "execute_result",
          "data": {
            "text/plain": [
              "293"
            ]
          },
          "metadata": {
            "tags": []
          },
          "execution_count": 663
        }
      ]
    },
    {
      "cell_type": "code",
      "metadata": {
        "colab": {
          "base_uri": "https://localhost:8080/"
        },
        "id": "RRWYT-NwzMYh",
        "outputId": "6f18896d-1ee2-418a-ba24-0dcfb19a652b"
      },
      "source": [
        "# the average count of jobs listed per company\n",
        "round(np.average(df['Company'].value_counts().to_numpy()), 3)"
      ],
      "execution_count": 664,
      "outputs": [
        {
          "output_type": "execute_result",
          "data": {
            "text/plain": [
              "2.058"
            ]
          },
          "metadata": {
            "tags": []
          },
          "execution_count": 664
        }
      ]
    },
    {
      "cell_type": "markdown",
      "metadata": {
        "id": "9luKGAG46F7R"
      },
      "source": [
        "# 3. Which industry is associated with the most job listings? Which has the least?\n"
      ]
    },
    {
      "cell_type": "code",
      "metadata": {
        "colab": {
          "base_uri": "https://localhost:8080/",
          "height": 197
        },
        "id": "wbppqSoi5kge",
        "outputId": "805eba10-9581-417c-b5ea-82038bd5e7a3"
      },
      "source": [
        "# the count of unique job position in each insustry\n",
        "df_ind = df['Industry'].value_counts().rename_axis('Industry').reset_index(name='Freq')\n",
        "df_ind.head()"
      ],
      "execution_count": 665,
      "outputs": [
        {
          "output_type": "execute_result",
          "data": {
            "text/html": [
              "<div>\n",
              "<style scoped>\n",
              "    .dataframe tbody tr th:only-of-type {\n",
              "        vertical-align: middle;\n",
              "    }\n",
              "\n",
              "    .dataframe tbody tr th {\n",
              "        vertical-align: top;\n",
              "    }\n",
              "\n",
              "    .dataframe thead th {\n",
              "        text-align: right;\n",
              "    }\n",
              "</style>\n",
              "<table border=\"1\" class=\"dataframe\">\n",
              "  <thead>\n",
              "    <tr style=\"text-align: right;\">\n",
              "      <th></th>\n",
              "      <th>Industry</th>\n",
              "      <th>Freq</th>\n",
              "    </tr>\n",
              "  </thead>\n",
              "  <tbody>\n",
              "    <tr>\n",
              "      <th>0</th>\n",
              "      <td>Computer Software</td>\n",
              "      <td>129</td>\n",
              "    </tr>\n",
              "    <tr>\n",
              "      <th>1</th>\n",
              "      <td>Information Technology &amp; Servicess</td>\n",
              "      <td>62</td>\n",
              "    </tr>\n",
              "    <tr>\n",
              "      <th>2</th>\n",
              "      <td>Software &amp; Tech Services</td>\n",
              "      <td>58</td>\n",
              "    </tr>\n",
              "    <tr>\n",
              "      <th>3</th>\n",
              "      <td>Retail/Ecommerce</td>\n",
              "      <td>29</td>\n",
              "    </tr>\n",
              "    <tr>\n",
              "      <th>4</th>\n",
              "      <td>Recruiting and Staffing</td>\n",
              "      <td>24</td>\n",
              "    </tr>\n",
              "  </tbody>\n",
              "</table>\n",
              "</div>"
            ],
            "text/plain": [
              "                             Industry  Freq\n",
              "0                   Computer Software   129\n",
              "1  Information Technology & Servicess    62\n",
              "2            Software & Tech Services    58\n",
              "3                    Retail/Ecommerce    29\n",
              "4             Recruiting and Staffing    24"
            ]
          },
          "metadata": {
            "tags": []
          },
          "execution_count": 665
        }
      ]
    },
    {
      "cell_type": "code",
      "metadata": {
        "colab": {
          "base_uri": "https://localhost:8080/"
        },
        "id": "WNHc97GUD8u_",
        "outputId": "cc6e8063-bef4-44b8-fb64-c0d5bb6f924e"
      },
      "source": [
        "# the industry with the most job listings: Computer Software \n",
        "max_job_ind = df_ind['Freq'].max()\n",
        "print(\"The count of most job listings: \", max_job_ind)\n",
        "df_ind[df_ind['Freq'] == max_job_ind]['Industry'].tolist()"
      ],
      "execution_count": 666,
      "outputs": [
        {
          "output_type": "stream",
          "text": [
            "The count of most job listings:  129\n"
          ],
          "name": "stdout"
        },
        {
          "output_type": "execute_result",
          "data": {
            "text/plain": [
              "['Computer Software']"
            ]
          },
          "metadata": {
            "tags": []
          },
          "execution_count": 666
        }
      ]
    },
    {
      "cell_type": "code",
      "metadata": {
        "colab": {
          "base_uri": "https://localhost:8080/"
        },
        "id": "0pbM4m7u7Sx2",
        "outputId": "b9876c25-8521-4b60-d4ce-cd371f605f76"
      },
      "source": [
        "# the industry with the least job listings: many industries\n",
        "min_job_ind = df_ind['Freq'].min()\n",
        "print(\"The count of least job listings: \", min_job_ind)\n",
        "df_ind[df_ind['Freq'] == min_job_ind]['Industry'].tolist()"
      ],
      "execution_count": 667,
      "outputs": [
        {
          "output_type": "stream",
          "text": [
            "The count of least job listings:  1\n"
          ],
          "name": "stdout"
        },
        {
          "output_type": "execute_result",
          "data": {
            "text/plain": [
              "['Software life Science',\n",
              " 'Healthcare software company',\n",
              " 'Aerospace Computer Vision National Security',\n",
              " 'Apparel & Fashion',\n",
              " 'Application performance management',\n",
              " 'B2B Marketing Agency',\n",
              " 'Immigration',\n",
              " 'Foreign Limited Liability Company',\n",
              " 'Hotel',\n",
              " 'Personal Consumer Services',\n",
              " 'Pulp and Paper Industry',\n",
              " 'Architecture & Planning',\n",
              " 'Social Services',\n",
              " 'Education Domain/E-Learning',\n",
              " 'Non-profit organization',\n",
              " 'Legal',\n",
              " 'Venture Capital & Private Equity',\n",
              " 'Building Materials',\n",
              " 'Business Services',\n",
              " 'Hospitality and Leisure Domain',\n",
              " 'Computer Networking',\n",
              " 'Human Resources',\n",
              " 'Investment Management',\n",
              " 'Logistics and Supply Chain',\n",
              " 'Applied Science and Technology Development',\n",
              " 'Bioscience Research',\n",
              " 'Defense & Space']"
            ]
          },
          "metadata": {
            "tags": []
          },
          "execution_count": 667
        }
      ]
    },
    {
      "cell_type": "markdown",
      "metadata": {
        "id": "kLxxnMQO6Iu_"
      },
      "source": [
        "# 4. Which location is associated with the most job listings? What is the average number of listings per location?"
      ]
    },
    {
      "cell_type": "code",
      "metadata": {
        "colab": {
          "base_uri": "https://localhost:8080/",
          "height": 197
        },
        "id": "O7CaG1tSDQKo",
        "outputId": "83658028-5781-4d69-c8fa-32f9648a3b76"
      },
      "source": [
        "# the count of unique job position based on location \n",
        "df_loc = df['Location'].value_counts().rename_axis('Location').reset_index(name='Freq')\n",
        "df_loc.head()"
      ],
      "execution_count": 668,
      "outputs": [
        {
          "output_type": "execute_result",
          "data": {
            "text/html": [
              "<div>\n",
              "<style scoped>\n",
              "    .dataframe tbody tr th:only-of-type {\n",
              "        vertical-align: middle;\n",
              "    }\n",
              "\n",
              "    .dataframe tbody tr th {\n",
              "        vertical-align: top;\n",
              "    }\n",
              "\n",
              "    .dataframe thead th {\n",
              "        text-align: right;\n",
              "    }\n",
              "</style>\n",
              "<table border=\"1\" class=\"dataframe\">\n",
              "  <thead>\n",
              "    <tr style=\"text-align: right;\">\n",
              "      <th></th>\n",
              "      <th>Location</th>\n",
              "      <th>Freq</th>\n",
              "    </tr>\n",
              "  </thead>\n",
              "  <tbody>\n",
              "    <tr>\n",
              "      <th>0</th>\n",
              "      <td>Seattle WC</td>\n",
              "      <td>193</td>\n",
              "    </tr>\n",
              "    <tr>\n",
              "      <th>1</th>\n",
              "      <td>Seattle, WA</td>\n",
              "      <td>162</td>\n",
              "    </tr>\n",
              "    <tr>\n",
              "      <th>2</th>\n",
              "      <td>Redmond, WA 98052 (Overlake area)</td>\n",
              "      <td>40</td>\n",
              "    </tr>\n",
              "    <tr>\n",
              "      <th>3</th>\n",
              "      <td>Redmond, WA</td>\n",
              "      <td>29</td>\n",
              "    </tr>\n",
              "    <tr>\n",
              "      <th>4</th>\n",
              "      <td>Bellevue, WA</td>\n",
              "      <td>29</td>\n",
              "    </tr>\n",
              "  </tbody>\n",
              "</table>\n",
              "</div>"
            ],
            "text/plain": [
              "                            Location  Freq\n",
              "0                         Seattle WC   193\n",
              "1                        Seattle, WA   162\n",
              "2  Redmond, WA 98052 (Overlake area)    40\n",
              "3                        Redmond, WA    29\n",
              "4                       Bellevue, WA    29"
            ]
          },
          "metadata": {
            "tags": []
          },
          "execution_count": 668
        }
      ]
    },
    {
      "cell_type": "code",
      "metadata": {
        "colab": {
          "base_uri": "https://localhost:8080/"
        },
        "id": "ZdEOv5AXDQSC",
        "outputId": "e138c71c-0f25-4c96-a244-7e0f661ef06c"
      },
      "source": [
        "# the industry with the most job listings: Computer Software \n",
        "max_job_loc = df_loc['Freq'].max()\n",
        "print(\"The count of most job listings: \", max_job_loc)\n",
        "df_loc[df_loc['Freq'] == max_job_loc]['Location'].tolist()"
      ],
      "execution_count": 669,
      "outputs": [
        {
          "output_type": "stream",
          "text": [
            "The count of most job listings:  193\n"
          ],
          "name": "stdout"
        },
        {
          "output_type": "execute_result",
          "data": {
            "text/plain": [
              "['Seattle WC']"
            ]
          },
          "metadata": {
            "tags": []
          },
          "execution_count": 669
        }
      ]
    },
    {
      "cell_type": "code",
      "metadata": {
        "colab": {
          "base_uri": "https://localhost:8080/"
        },
        "id": "Bo3cNlZtEzhl",
        "outputId": "c088e6b3-bf76-4e33-a456-218cb99baa7c"
      },
      "source": [
        "# the average count of jobs listed per location\n",
        "round(np.average(df['Location'].value_counts().to_numpy()), 3)"
      ],
      "execution_count": 670,
      "outputs": [
        {
          "output_type": "execute_result",
          "data": {
            "text/plain": [
              "9.524"
            ]
          },
          "metadata": {
            "tags": []
          },
          "execution_count": 670
        }
      ]
    },
    {
      "cell_type": "markdown",
      "metadata": {
        "id": "KvbdjhOD6JO7"
      },
      "source": [
        "# 5. If you had to identify all the jobs that require data skills, how would you identify them? How many jobs require data skills? "
      ]
    },
    {
      "cell_type": "code",
      "metadata": {
        "colab": {
          "base_uri": "https://localhost:8080/"
        },
        "id": "-zLQHosGI2Au",
        "outputId": "f6159c0b-97c7-4bbc-eebd-4526e345796c"
      },
      "source": [
        "# number of experience whose value is null: 3\n",
        "num_nan_exp = len(df[df['Experience'].isnull()]['Experience'])\n",
        "# number of experience whose value is Na, NA, or NA-Feb 2020 Data: 410\n",
        "num_no_exp = len(df[df['Experience'].notnull() & df['Experience'].str.lower().str.startswith('n')]['Experience'])\n",
        "total_num_no_exp = df.shape[0] - num_nan_exp - num_no_exp\n",
        "print(\"Number of jobs which require data skills: \", total_num_no_exp)"
      ],
      "execution_count": 671,
      "outputs": [
        {
          "output_type": "stream",
          "text": [
            "Number of jobs which require data skills:  193\n"
          ],
          "name": "stdout"
        }
      ]
    },
    {
      "cell_type": "markdown",
      "metadata": {
        "id": "RcUZLK3T6Jk-"
      },
      "source": [
        "# 6. Based on the \"Qualification\" column, identify job listings that require applicants who are either pursuing or have completed a Bachelor's Degree. What is the count of such jobs?"
      ]
    },
    {
      "cell_type": "code",
      "metadata": {
        "colab": {
          "base_uri": "https://localhost:8080/"
        },
        "id": "qZeVORZIN5op",
        "outputId": "6f215cb2-ec95-4948-c892-03f8a8cdbb1e"
      },
      "source": [
        "# add a column called \"Is_Bachelor\" to store the result of whether the job requires a bachelor degree\n",
        "df['Is_Bachelor'] = df['Qualification'].notnull() & df['Qualification'].str.lower().str.contains('bachelor|bs|ba|b.s|b.a|undergraduate')\n",
        "# df['Is_Bachelor'] = df['Qualification'].apply(lambda x: x.contains('bs'))\n",
        "len(df[df['Is_Bachelor'] == True]['Is_Bachelor'])"
      ],
      "execution_count": 672,
      "outputs": [
        {
          "output_type": "execute_result",
          "data": {
            "text/plain": [
              "121"
            ]
          },
          "metadata": {
            "tags": []
          },
          "execution_count": 672
        }
      ]
    },
    {
      "cell_type": "markdown",
      "metadata": {
        "id": "mBZwcnRN6W6v"
      },
      "source": [
        "# 7. Perform an Exploratory Data Analysis and present the summary of your analysis. \n",
        "A. Analyze the data set and summarize the main characteristics\n",
        "\n",
        "B. Use statistical graphics and data visualization methods to present your insights\n",
        "\n",
        "C. Identify further questions related to the provided dataset that a database manager or a data analyst should explore. \n"
      ]
    },
    {
      "cell_type": "markdown",
      "metadata": {
        "id": "wo0pqPUPZ6CC"
      },
      "source": [
        "I only show B in this part, since the answer of A and C can be seen in the data_analysis.pdf."
      ]
    },
    {
      "cell_type": "code",
      "metadata": {
        "colab": {
          "base_uri": "https://localhost:8080/",
          "height": 651
        },
        "id": "-PPNNPVDSJRm",
        "outputId": "13e4ddeb-fb66-456c-eef1-291b9edec3c7"
      },
      "source": [
        "# import matplotlib.pyplot as plt\n",
        "fig, axs= plt.subplots(nrows=2, ncols=2, figsize=(13,8))\n",
        "fig.tight_layout(w_pad=18.0, h_pad=2.0)\n",
        "fig.suptitle('Data Visualization', fontsize=16, y=1.04)\n",
        "\n",
        "axs[0,0].set_title('Top 10 company with the most job listings')\n",
        "axs[0,0].barh(df_com.head(10)['Company'], df_com.head(10)['Freq'])\n",
        "axs[0,0].invert_yaxis()\n",
        "\n",
        "axs[0,1].set_title('Top 10 industry with the most job listings')\n",
        "axs[0,1].barh(df_ind.head(10)['Industry'], df_ind.head(10)['Freq'])\n",
        "axs[0,1].invert_yaxis()\n",
        "\n",
        "axs[1,0].set_title('Top 10 location with the most job listings')\n",
        "axs[1,0].barh(df_loc.head(10)['Location'], df_loc.head(10)['Freq'])\n",
        "axs[1,0].invert_yaxis()\n",
        "axs[1,0].set(xlabel='Number of job listings')\n",
        "\n",
        "axs[1,1].set_title('Top 10 position with the most job listings')\n",
        "axs[1,1].barh(df_pos.head(10)['Position'], df_pos.head(10)['Freq'])\n",
        "axs[1,1].invert_yaxis()\n",
        "axs[1,1].set(xlabel='Number of job listings')\n",
        "# plt.show()"
      ],
      "execution_count": 674,
      "outputs": [
        {
          "output_type": "execute_result",
          "data": {
            "text/plain": [
              "[Text(0.5, 51.00000000000006, 'Number of job listings')]"
            ]
          },
          "metadata": {
            "tags": []
          },
          "execution_count": 674
        },
        {
          "output_type": "display_data",
          "data": {
            "image/png": "[encoded data removed]",
            "text/plain": [
              "<Figure size 936x576 with 4 Axes>"
            ]
          },
          "metadata": {
            "tags": [],
            "needs_background": "light"
          }
        }
      ]
    },
    {
      "cell_type": "code",
      "metadata": {
        "id": "6AONXYi4SJWo"
      },
      "source": [
        ""
      ],
      "execution_count": 673,
      "outputs": []
    }
  ]
}